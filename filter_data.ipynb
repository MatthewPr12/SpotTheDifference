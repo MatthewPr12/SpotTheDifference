{
 "cells": [
  {
   "cell_type": "code",
   "execution_count": 60,
   "metadata": {
    "collapsed": true
   },
   "outputs": [],
   "source": [
    "import pandas as pd\n",
    "import numpy as np\n",
    "import sys\n",
    "import os\n",
    "import glob\n",
    "import re"
   ]
  },
  {
   "cell_type": "code",
   "execution_count": 136,
   "outputs": [],
   "source": [
    "def concat_info(data_dir_path=\"/data\"):\n",
    "    path = os.getcwd() + data_dir_path\n",
    "    print(path)\n",
    "    csv_files = sorted(glob.glob(os.path.join(path, \"*.csv\")))\n",
    "    df = pd.read_csv(csv_files[0])\n",
    "    pattern  = r\"(\\d{4}-\\d{2}-\\d{2})\\.csv\"\n",
    "    new_name = re.search(pattern, csv_files[0]).group(1)\n",
    "    df['week'] = new_name\n",
    "    for f in csv_files[1:]:\n",
    "        cur_df=pd.read_csv(f)\n",
    "        new_name = re.search(pattern, f).group(1)\n",
    "        cur_df['week'] = new_name\n",
    "        df = pd.concat([df, cur_df])\n",
    "\n",
    "        # print()\n",
    "    return df"
   ],
   "metadata": {
    "collapsed": false
   }
  },
  {
   "cell_type": "code",
   "execution_count": 122,
   "outputs": [
    {
     "name": "stdout",
     "output_type": "stream",
     "text": [
      "/Users/matthewprytula/P&S/spotifyProject/data/old_data\n"
     ]
    },
    {
     "data": {
      "text/plain": "     rank                                   uri  \\\n0       1  spotify:track:5MAQgObkQo8YHICDRqdYcg   \n1       2  spotify:track:6bMhau29WoIMtIwGpmSj5Y   \n2       3  spotify:track:2Db7e6H4R5XXnyuTtxUggp   \n3       4  spotify:track:1tzTlRMcw9xDqrNRzj3H2g   \n4       5  spotify:track:7zDT00UVHuzrHorboTTOq6   \n..    ...                                   ...   \n195   196  spotify:track:25ELY5B0hsm6ZwmcSrqr4A   \n196   197  spotify:track:4RwN5abaM8W3uQczqiDGF1   \n197   198  spotify:track:5lAnYvAIkSDNXqfo7DyFUm   \n198   199  spotify:track:02RaTv7Cwmxai2AE4ig0Yu   \n199   200  spotify:track:10EdfwW2FDCp4I9kyy52YB   \n\n                                          artist_names  \\\n0    MORGENSHTERN, SODA LUV, OG Buda, blago white, ...   \n1                                         MORGENSHTERN   \n2                                         MORGENSHTERN   \n3                                          DEAD BLONDE   \n4                                         SLAVA MARLOW   \n..                                                 ...   \n195                            The Limba, Andro, Navai   \n196                                     KALUSH, Skofka   \n197                                           Doja Cat   \n198                                        blago white   \n199                         MORGENSHTERN, SLAVA MARLOW   \n\n                                            track_name  \\\n0    Cristal & МОЁТ (feat. SODA LUV & blago white &...   \n1                                                 SHOW   \n2                                                 ДУЛО   \n3                                   Мальчик на девятке   \n4                                       КОМУ ЭТО НАДО?   \n..                                                 ...   \n195                                    Никаких эмоций   \n196                       Не напрягайся (feat. Skofka)   \n197                                         Ain't Shit   \n198                                ТЫ ТУПАЯ ИЛИ ГЛУПЫЙ   \n199                                             Быстро   \n\n                                     source  peak_rank  previous_rank  \\\n0                   Atlantic Records Russia          1             -1   \n1                   Atlantic Records Russia          2             -1   \n2                   Atlantic Records Russia          1              1   \n3                               DEAD BLONDE          2              2   \n4                   Atlantic Records Russia          5             -1   \n..                                      ...        ...            ...   \n195                 Atlantic Records Russia        196             -1   \n196                          Columbia Local        197             -1   \n197            Kemosabe Records/RCA Records        155            155   \n198                     OOO Universal Music        157            157   \n199  Atlantic Records Russia (Distribution)          3            144   \n\n     weeks_on_chart  streams  \n0                 1   161845  \n1                 1   137806  \n2                 2   137554  \n3                 5   111048  \n4                 1   109654  \n..              ...      ...  \n195               1    21629  \n196               1    21628  \n197               2    21423  \n198               5    21367  \n199              40    21160  \n\n[6199 rows x 9 columns]",
      "text/html": "<div>\n<style scoped>\n    .dataframe tbody tr th:only-of-type {\n        vertical-align: middle;\n    }\n\n    .dataframe tbody tr th {\n        vertical-align: top;\n    }\n\n    .dataframe thead th {\n        text-align: right;\n    }\n</style>\n<table border=\"1\" class=\"dataframe\">\n  <thead>\n    <tr style=\"text-align: right;\">\n      <th></th>\n      <th>rank</th>\n      <th>uri</th>\n      <th>artist_names</th>\n      <th>track_name</th>\n      <th>source</th>\n      <th>peak_rank</th>\n      <th>previous_rank</th>\n      <th>weeks_on_chart</th>\n      <th>streams</th>\n    </tr>\n  </thead>\n  <tbody>\n    <tr>\n      <th>0</th>\n      <td>1</td>\n      <td>spotify:track:5MAQgObkQo8YHICDRqdYcg</td>\n      <td>MORGENSHTERN, SODA LUV, OG Buda, blago white, ...</td>\n      <td>Cristal &amp; МОЁТ (feat. SODA LUV &amp; blago white &amp;...</td>\n      <td>Atlantic Records Russia</td>\n      <td>1</td>\n      <td>-1</td>\n      <td>1</td>\n      <td>161845</td>\n    </tr>\n    <tr>\n      <th>1</th>\n      <td>2</td>\n      <td>spotify:track:6bMhau29WoIMtIwGpmSj5Y</td>\n      <td>MORGENSHTERN</td>\n      <td>SHOW</td>\n      <td>Atlantic Records Russia</td>\n      <td>2</td>\n      <td>-1</td>\n      <td>1</td>\n      <td>137806</td>\n    </tr>\n    <tr>\n      <th>2</th>\n      <td>3</td>\n      <td>spotify:track:2Db7e6H4R5XXnyuTtxUggp</td>\n      <td>MORGENSHTERN</td>\n      <td>ДУЛО</td>\n      <td>Atlantic Records Russia</td>\n      <td>1</td>\n      <td>1</td>\n      <td>2</td>\n      <td>137554</td>\n    </tr>\n    <tr>\n      <th>3</th>\n      <td>4</td>\n      <td>spotify:track:1tzTlRMcw9xDqrNRzj3H2g</td>\n      <td>DEAD BLONDE</td>\n      <td>Мальчик на девятке</td>\n      <td>DEAD BLONDE</td>\n      <td>2</td>\n      <td>2</td>\n      <td>5</td>\n      <td>111048</td>\n    </tr>\n    <tr>\n      <th>4</th>\n      <td>5</td>\n      <td>spotify:track:7zDT00UVHuzrHorboTTOq6</td>\n      <td>SLAVA MARLOW</td>\n      <td>КОМУ ЭТО НАДО?</td>\n      <td>Atlantic Records Russia</td>\n      <td>5</td>\n      <td>-1</td>\n      <td>1</td>\n      <td>109654</td>\n    </tr>\n    <tr>\n      <th>...</th>\n      <td>...</td>\n      <td>...</td>\n      <td>...</td>\n      <td>...</td>\n      <td>...</td>\n      <td>...</td>\n      <td>...</td>\n      <td>...</td>\n      <td>...</td>\n    </tr>\n    <tr>\n      <th>195</th>\n      <td>196</td>\n      <td>spotify:track:25ELY5B0hsm6ZwmcSrqr4A</td>\n      <td>The Limba, Andro, Navai</td>\n      <td>Никаких эмоций</td>\n      <td>Atlantic Records Russia</td>\n      <td>196</td>\n      <td>-1</td>\n      <td>1</td>\n      <td>21629</td>\n    </tr>\n    <tr>\n      <th>196</th>\n      <td>197</td>\n      <td>spotify:track:4RwN5abaM8W3uQczqiDGF1</td>\n      <td>KALUSH, Skofka</td>\n      <td>Не напрягайся (feat. Skofka)</td>\n      <td>Columbia Local</td>\n      <td>197</td>\n      <td>-1</td>\n      <td>1</td>\n      <td>21628</td>\n    </tr>\n    <tr>\n      <th>197</th>\n      <td>198</td>\n      <td>spotify:track:5lAnYvAIkSDNXqfo7DyFUm</td>\n      <td>Doja Cat</td>\n      <td>Ain't Shit</td>\n      <td>Kemosabe Records/RCA Records</td>\n      <td>155</td>\n      <td>155</td>\n      <td>2</td>\n      <td>21423</td>\n    </tr>\n    <tr>\n      <th>198</th>\n      <td>199</td>\n      <td>spotify:track:02RaTv7Cwmxai2AE4ig0Yu</td>\n      <td>blago white</td>\n      <td>ТЫ ТУПАЯ ИЛИ ГЛУПЫЙ</td>\n      <td>OOO Universal Music</td>\n      <td>157</td>\n      <td>157</td>\n      <td>5</td>\n      <td>21367</td>\n    </tr>\n    <tr>\n      <th>199</th>\n      <td>200</td>\n      <td>spotify:track:10EdfwW2FDCp4I9kyy52YB</td>\n      <td>MORGENSHTERN, SLAVA MARLOW</td>\n      <td>Быстро</td>\n      <td>Atlantic Records Russia (Distribution)</td>\n      <td>3</td>\n      <td>144</td>\n      <td>40</td>\n      <td>21160</td>\n    </tr>\n  </tbody>\n</table>\n<p>6199 rows × 9 columns</p>\n</div>"
     },
     "metadata": {},
     "output_type": "display_data"
    },
    {
     "name": "stdout",
     "output_type": "stream",
     "text": [
      "/Users/matthewprytula/P&S/spotifyProject/data\n"
     ]
    },
    {
     "data": {
      "text/plain": "rank               int64\nuri               object\nartist_names      object\ntrack_name        object\nsource            object\npeak_rank          int64\nprevious_rank      int64\nweeks_on_chart     int64\nstreams            int64\ndtype: object"
     },
     "execution_count": 122,
     "metadata": {},
     "output_type": "execute_result"
    }
   ],
   "source": [
    "display(concat_info(\"/data/old_data\"))\n",
    "concat_info().dtypes"
   ],
   "metadata": {
    "collapsed": false
   }
  },
  {
   "cell_type": "code",
   "execution_count": 12,
   "outputs": [],
   "source": [
    "def get_artists(data_dir_path):\n",
    "    df = concat_info(data_dir_path)\n",
    "    return df.artist_names.unique()"
   ],
   "metadata": {
    "collapsed": false
   }
  },
  {
   "cell_type": "code",
   "execution_count": 13,
   "outputs": [
    {
     "name": "stdout",
     "output_type": "stream",
     "text": [
      "/home/sviat/code/Probability/SpotTheDifference/data\n",
      "/home/sviat/code/Probability/SpotTheDifference/data/old_data\n"
     ]
    }
   ],
   "source": [
    "df = concat_info(\"/data\")\n",
    "df_old = concat_info(\"/data/old_data\")"
   ],
   "metadata": {
    "collapsed": false
   }
  },
  {
   "cell_type": "code",
   "execution_count": 14,
   "outputs": [],
   "source": [
    "def write_artists(artists, filename):\n",
    "    with open(filename, 'w') as my_file:\n",
    "        my_file.write(\"artist; nation\\n\")\n",
    "        for i in artists:\n",
    "            my_file.write(i+\";\\n\")\n"
   ],
   "metadata": {
    "collapsed": false
   }
  },
  {
   "cell_type": "code",
   "execution_count": 15,
   "outputs": [
    {
     "name": "stdout",
     "output_type": "stream",
     "text": [
      "/home/sviat/code/Probability/SpotTheDifference/data\n",
      "['Big Baby Tape, kizaru' 'shadowraze' 'quiizzzmeow'\n",
      " 'OG Buda, 17 SEVENTEEN, MAYOT' 'Big Baby Tape, Молодой Платон'\n",
      " 'nkeeei, uniqe, ARTEM SHILOVETS, SAGARA'\n",
      " 'Imagine Dragons, JID, Arcane, League of Legends'\n",
      " 'Miyagi & Andy Panda, Mav-d' 'WENARO, LXNER' 'Max Korzh'\n",
      " 'PHARAOH, Mnogoznaal' 'MORGENSHTERN' 'Даня Милохин, Mumiy Troll'\n",
      " 'GONE.Fludd' 'uniqe, nkeeei, ARTEM SHILOVETS' 'DVRST'\n",
      " 'Lil Nas X, Jack Harlow' 'Skryptonite, Райда' 'Платина, Дора' 'GAYLE'\n",
      " 'Kambulat' 'Lusia Chebotina' 'Sqwore' 'The Kid LAROI, Justin Bieber'\n",
      " 'shadowraze, babyswishh1' 'fem.love' 'rizza, Sqwore'\n",
      " 'shadowraze, GENJUTSU' 'Wham!' 'Дора, MAYBE BABY' 'Bobby Helms' 'Дора'\n",
      " 'BoyWithUke' 'Brenda Lee' 'Mariah Carey' 'INSTASAMKA' 'semmmyq, shinra'\n",
      " 'Miyagi & Andy Panda' 'Elley Duhé' 'Korol i Shut' 'Wellboy'\n",
      " 'вышел покурить' 'DSPRITE' 'KALUSH, Tember Blanche'\n",
      " 'SODA LUV, Rakhim, SLAVA MARLOW' 'LIL MORTY' 'remember.' 'SALES' 'kizaru'\n",
      " 'Miyagi & Andy Panda, TumaniYO' 'BALKON' 'Minelli'\n",
      " 'Scally Milano, LOVV66' 'ROCKET' 'Mr.Kitty' 'Twinky'\n",
      " 'Poshlaya Molly, Eldzhey' 'Skryptonite' 'METAN' 'Benedixhion'\n",
      " 'Egor Kreed' 'Måneskin' 'Glass Animals' 'Xdinary Heroes' 'АДЛИН'\n",
      " 'Mnogoznaal' 'Dean Martin' 'Kush Lovers' 'Sia' 'LSP' 'PlayaPhonk'\n",
      " 'ssshhhiiittt!' 'BRANYA, MACAN' 'Ollane, MiyaGi' 'SODA LUV' 'Перемотка'\n",
      " 'Lil Nas X' 'Ed Sheeran' 'The Weeknd' 'Oxxxymiron' 'OBLADAET'\n",
      " 'Boulevard Depo, SP4K' 'Три дня дождя' 'ooes' 'uglystephan' 'Hensonn'\n",
      " 'Папин Олимпос' 'Кишлак' 'Платина, Big Baby Tape' 'Sqwore, rizza'\n",
      " 'Дайте танк (!)' 'HammAli & Navai' '10AGE' 'Pornofilmy'\n",
      " 'The Neighbourhood' 'THRILL PILL' 'JojoHF, nevroz' 'SODA LUV, WHY, BERRY'\n",
      " 'Ed Sheeran, FEDUK, SLAVA MARLOW' 'LXST CXNTURY, Kingpin Skinny Pimp'\n",
      " 'Ежемесячные' 'Платина, OG Buda, MAYOT' 'LIL KRYSTALLL'\n",
      " 'MORGENSHTERN, SODA LUV, OG Buda, blago white, MAYOT'\n",
      " 'OBLADAET, THRILL PILL' 'DEAD BLONDE' 'Elton John, Dua Lipa, PNAU'\n",
      " 'Tiësto' 'OG Buda, Polyana' 'siouxxie sixxsta' 'KENTUKKI' 'GUMA' 'LOBODA'\n",
      " 'Alyona Shvets' 'WEEDMANE, Suicideyear' 'Esteman' 'LISA' 'MiyaGi'\n",
      " 'Öwnboss, Sevek' 'HammAli & Navai, Jah Khalib' 'Skryptonite, 104'\n",
      " 'Lil Peep' 'Michael Bublé' 'Rebzyyx, hoshie star' 'The Rare Occasions'\n",
      " 'LIZER' 'ACRAZE, Cherish' 'Scally Milano' 'Ghostface Playa, fkbambam'\n",
      " 'pyrokinesis, MUKKA' 'Tima Belorusskih' \"10AGE, Ramil'\"\n",
      " 'конец солнечных дней' 'Andy Williams' 'Surf Curse' 'JONY, HammAli'\n",
      " 'Jaymes Young' 'MiyaGi & Endspiel, Rem Digga' 'MACAN'\n",
      " 'Kaito Shoma, DJ Paul, Kingpin Skinny Pimp' 'NЮ' 'Nikitata'\n",
      " 'Dzharakhov, Markul'\n",
      " 'OG Buda, MAYOT, SEEMEE, Magnum Opus, Scally Milano, YUNGWAY, BUSHIDO ZHO'\n",
      " 'Sam Smith, Kim Petras' 'Skofka' 'Kordhell' 'Aarne, BUSHIDO ZHO, ANIKV'\n",
      " 'KALUSH, Skofka' 'xxxmanera' 'Imagine Dragons' 'ENLEO' 'MUPP, Sadfriendd'\n",
      " 'uglystephan, Scally Milano' 'INTERWORLD' 'KOLA' 'Tom Odell'\n",
      " 'ONIMXRU, SMITHMANE' 'MoonDeity' 'jockii druce'\n",
      " 'Молодой Платон, Poshlaya Molly, Yanix' 'Poshlaya Molly, HOFMANNITA'\n",
      " 'Канги, Galust' 'Dxrk ダーク' 'PLAYAMANE, Nateki' 'SHUMEI'\n",
      " 'KALUSH, Kalush Orchestra' 'Rammstein' 'Chico, Qatoshi' 'Кореш' 'SadSvit'\n",
      " 'Шайни' 'PLOHOYPAREN' 'Clonnex' '100лиця, SKYLERR' 'YARMAK, ALISA'\n",
      " 'Artem Pivovarov, DOROFEEVA' 'Rosa Walton, Hallie Coggins' 'BUSHIDO ZHO'\n",
      " 'ScurtDae' 'Chris Brown' 'Eminem, Dina Rae' 'Jerry Heil'\n",
      " 'alyona alyona, Jerry Heil, ela.' 'Stray Kids' 'КАКАЯ РАЗНИЦА' 'Мюслі UA'\n",
      " 'анастимоза' 'Scally Milano, uglystephan' 'XXXTENTACION'\n",
      " 'Милана Хаметова, Milana Star' 'Arut, MORGENSHTERN' 'Odyn v Kanoe'\n",
      " 'David Guetta, Bebe Rexha' 'Ghost' 'uglystephan archive' 'ASKEt'\n",
      " 'Ghostface Playa' 'Harry Styles' 'Funk Tribu' 'БРЕДИШЬ' 'KUTE' 'CHEEV'\n",
      " 'Xantesha' 'Кореш, treepside' 'Taras Chubay, Плач Єремії' 'Isolate.exe'\n",
      " 'LAUD' 'Artem Pivovarov' 'VovaZiLvova, Morphom' 'Lil Yachty' 'BLACKPINK'\n",
      " 'Scally Milano, OG Buda' \"Motor'Rolla\" 'zxcursed' 'Nirvana' 'H8.HOOD'\n",
      " 'Arctic Monkeys' 'MamaRika' 'Мюслі UA, VASIA CHARISMA'\n",
      " 'Artem Pivovarov, alyona alyona' 'OneRepublic' 'Ed Sheeran, Antytila'\n",
      " 'Karta Svitu' 'хейтспіч' 'girl in red' 'shadowraze, LXNER, quiizzzmeow'\n",
      " 'Eyedress' 'Jerry Heil, Verka Serduchka' 'Valentin Strykalo'\n",
      " 'Beach Weather' 'PROBASS ∆ HARDI' 'Phonkha, zecki'\n",
      " 'Cheriimoya, Sierra Kidd' 'Lil God Dan' 'FACE' 'KRBK'\n",
      " 'Sasha Chemerov, Boombox' 'SHADXWBXRN, ARCHEZ, KXNVRA'\n",
      " 'The Weeknd, Gesaffelstein' 'Маша Кондратенко' 'To Eternity'\n",
      " 'SCXR SOUL, Sx1nxwy' 'RAT BOY, IBDY' 'Steve Lacy' 'KALUSH' 'GRAVECHILL'\n",
      " 'KSLV Noh' 'alyona alyona, Jerry Heil' 'Epolets' 'ATELLWULF'\n",
      " 'Khrystyna Soloviy' 'Eminem' 'd4vd' 'MC ORSEN' 'ПОЛМАТЕРИ' '100лиця'\n",
      " 'MGMT' 'Coolio, L.V.' 'Sxmpra' 'Arut, Big Baby Tape' 'VISXGE' 'JojoHF'\n",
      " 'Okean Elzy, Odyn v Kanoe' 'Boombox' 'СЕРЕГА ПИРАТ'\n",
      " '163ONMYNECK, BUSHIDO ZHO' 'Pixies' 'MBreeze' 'Nervy' 'MONATIK'\n",
      " 'Kinneret' 'Анна Тринчер, MBreeze' 'Mareux' 'Bahroma' 'Вектор А'\n",
      " 'Kate Bush' 'Twisted Sister' 'FACE, Squirrel Flower' 'Juice WRLD'\n",
      " 'nkeeei, uniqe, ARTEM SHILOVETS, MAYOT' 'mazie' 'OG Buda'\n",
      " 'DAYTON, Shnaps' 'Eliza Rose, Interplanetary Criminal' 'Cypis' 'PHARAOH'\n",
      " 'Okean Elzy' 'Минин' 'Go_A' 'GAYAZOV$ BROTHER$' 'The Kiffness, Boombox'\n",
      " '163ONMYNECK' 'BUSHIDO ZHO, 163ONMYNECK' 'Adecvat_production'\n",
      " 'КОСМОНАВТОВ НЕТ' 'Руся' 'Zhadan i Sobaky' 'YARMAK, Tof' 'MAX BARSKIH'\n",
      " 'KALUSH, Khrystyna Soloviy' 'BUSHIDO ZHO, MAYOT' 'SHADXWBXRN'\n",
      " 'Griffinilla' 'AnnenMayKantereit, Giant Rooks' 'Мері' 'Medovyi Polyn'\n",
      " 'KALUSH, Jerry Heil' 'ZODIVK' 'niteboi' 'Nekoglai' 'BOTASHE' 'BONES'\n",
      " 'Автостопом по фазе сна' 'хочуспать' 'Tiësto, Ava Max' 'Skryabin'\n",
      " 'Где Фантом?' 'Violetta Sokolova' 'The Limba' 'V $ X V PRiNCE'\n",
      " 'Subwoolfer' 'Xcho' 'Calvin Harris, Dua Lipa' 'Медовий Полин'\n",
      " 'Patsyki Z Franeka' 'Arsen Mirzoyan' 'KALUSH, Сальто Назад, Skofka' 'S10'\n",
      " 'shadowraze, shinra' 'Boulevard Depo' 'Kanye West, XXXTENTACION'\n",
      " 'Нумер 482' 'Kolaba' 'Nurik Smit' 'Artem Pivovarov, KALUSH'\n",
      " 'OG Buda, MAYOT' 'Poshlaya Molly' 'нексюша' 'Платина'\n",
      " 'SODA LUV, BUSHIDO ZHO' 'BEZ OBMEZHEN' 'Joji' 'BTS' 'СТРУКТУРА ЩАСТЯ'\n",
      " 'The Yurcash' 'Tartak, Катя Chilly' 'Serhii Babkin' 'Antytila'\n",
      " 'SadSvit, СТРУКТУРА ЩАСТЯ' 'Nikitata, FindMyName' 'SOSKA 69'\n",
      " 'KALUSH, Kalush Orchestra, The Rasmus' 'LIL KRYSTALLL, Лоя (5sta Family)'\n",
      " 'TWISTED, Oliver Tree' 'Kxllswxtch' 'Кореш, PINQ' 'Freddie Dredd'\n",
      " 'Oliver Tree, Robin Schulz' 'g3ox_em' 'MiyaGi & Endspiel'\n",
      " 'Golubenko, Clonnex' 'Fujii Kaze' 'KALUSH, Kalush Orchestra, Szpaku'\n",
      " 'LOVV66' 'Drake, 21 Savage' 'ThxSoMch' '(G)I-DLE'\n",
      " 'Анна Тринчер, POSITIFF' 'TATISIZE, PASHASNICKERS' 'Kenshi Yonezu'\n",
      " 'Isabel LaRosa' 'The Hardkiss' 'Xolidayboy' 'Taylor Swift'\n",
      " 'Showbiz School' 'Aerosmith' 'VovaZiLvova, MamaRika'\n",
      " 'MORGENSHTERN, Aarne' 'The Limba, MORGENSHTERN'\n",
      " 'Poshlaya Molly, Молодой Платон' 'O.G EzzY' 'дипинс' 'артилерія'\n",
      " 'kizaru, Duke Deuce' 'Jakone, A.V.G, Итачи' 'Manu Chao'\n",
      " 'Aarne, Yanix, SEEMEE' 'Aarne, MORGENSHTERN'\n",
      " 'MC Mazzie, Mc Rd, DJ NpcSize, DJ Wizard' 'Lely45' 'Aarne, MAYOT, Markul'\n",
      " 'Clonnex, AQUAKILLA' 'Aarne, Big Baby Tape' 'Clonnex, йо' 'yatashigang'\n",
      " 'EeOneGuy' 'Схожа' 'Sx1nxwy' 'Zdob si Zdub, Fratii Advahov'\n",
      " 'Kendrick Lamar' 'Monika LIU' 'Vendetta' 'Konstrakta'\n",
      " 'OG Buda, Scally Milano, 163ONMYNECK' 'KALUSH, alyona alyona' 'Sam Ryder'\n",
      " 'MARO' 'Chanel' 'SHTERN, MORGENSHTERN' 'Ochman' 'Lady Gaga' 'DOROFEEVA'\n",
      " 'Parfeniuk' 'Килджо, shadowraze' 'Metro Boomin, The Weeknd, 21 Savage'\n",
      " 'Kalush Orchestra, KALUSH, KOZAK SIROMAHA' 'I Monster' 'Lil Uzi Vert'\n",
      " 'Artem Pivovarov, NK' 'MoonDeity, EL$E' 'Øneheart, reidenshi'\n",
      " 'ONIMXRU, STRAWANGLE' 'TVORCHI' 'Lana Del Rey'\n",
      " 'Metro Boomin, Future, Chris Brown' 'The Cramps' 'zhanulka'\n",
      " '3TERNITY, OG Buda' 'Eldzhey, Poshlaya Molly' 'BUSHIDO ZHO, treepside'\n",
      " 'Ariana Grande' 'Arthur Pirozhkov, Klava Koka' 'Ваня Дмитриенко'\n",
      " 'Frank Sinatra, B. Swanson Quartet' 'Kaito Shoma' 'Masked Wolf'\n",
      " 'Grigory Leps, Irina Allegrova' 'escape, Даня Милохин' 'Konfuz'\n",
      " 'Daft Punk, Pharrell Williams, Nile Rodgers' 'ALEKS ATAMAN, FINIK'\n",
      " 'Demi Lovato' 'IC3PEAK, Oli Sykes, Bring Me The Horizon'\n",
      " 'Verka Serduchka' 'ЛЯЛЬКА' 'SLAVA MARLOW' 'OBLADAET, JEEMBO'\n",
      " 'Galibri & Mavik' 'FrozenGangBeatz, SODA LUV, RVMZES' 'LOLIWZ'\n",
      " 'Geegun, Egor Kreed, The Limba, blago white, OG Buda, Timati, SODA LUV, GUF'\n",
      " 'Diskoteka Avariya' 'Ezekiel' 'Swedish House Mafia, The Weeknd'\n",
      " 'OG Buda, Дора' 'Gibbs' 'Scally Milano, 163ONMYNECK' 'Buerak' 'MAYOT'\n",
      " 'Markul' 'PHARAOH, Ilya Konoplev' 'Metro Boomin, Future, Don Toliver'\n",
      " 'Jah Khalib' 'RM' 'DVRST, Scarlxrd' 'j-hope' 'DJ GLK' 'Yeat'\n",
      " 'Charlie Puth, Jung Kook, BTS' 'Aarne, Eldzhey, LIL KRYSTALLL'\n",
      " 'Aarne, OBLADAET' 'Aarne, FEDUK' 'Aarne, Платина' 'Markul, Тося Чайкина'\n",
      " 'LOVV66, Платина' 'ARBUZOVA' 'Второй Ка' 'Айки' 'Grohotsky' 'stweamer'\n",
      " 'BARABANDA' 'Tartak' 'Lost Frequencies, Calum Scott'\n",
      " 'VACÍO, MORGENSHTERN' 'CORPSE, Scarlxrd, Kordhell' '1nonly, Sxmpra'\n",
      " 'AURORA' 'Tof, Білий Бо' 'yef' 'staplegun' 'Oisho btz' 'Rogue Dave'\n",
      " 'Emma Louise' 'Lesha Svik' 'ANNA ASTI' 'Pathetic' 'Badcurt' 'Rodionis'\n",
      " 'MUKKA' 'pyrokinesis' 'Scally Milano, 163ONMYNECK, FEARMUCH' 'CMH, Lida'\n",
      " 'Doja Cat' 'MORGENSHTERN, The Limba' 'MORGENSHTERN, ENTYPE'\n",
      " 'MORGENSHTERN, LSP' 'MORGENSHTERN, Eldzhey' 'Metallica' 'АКУЛИЧ, vafom'\n",
      " 'LAUD, Boulevard Depo, I61' 'Labrinth' 'Yung Lean' 'LXNER, quiizzzmeow'\n",
      " 'Daybe, Tenderlybae' 'Artik & Asti' 'SCIRENA' 'Антон Токарев'\n",
      " '$NOT, A$AP Rocky' 'Red Hot Chili Peppers' 'Parnishka, ELLA'\n",
      " 'КОСМОНАВТОВ НЕТ, дипинс' 'Slattcrank, LUCIE'\n",
      " '163ONMYNECK, Yanix, FEARMUCH, Scally Milano'\n",
      " 'BADTRIP MUSIC, GREEN ORXNGE, Send 1' 'Egor Kreed, MakSim' 'Ishowsped'\n",
      " '163ONMYNECK, OG Buda' 'rizza' 'Pharmacist' 'Джизус' 'plenka'\n",
      " 'Midix, Chuyko, Lirin' 'ЯМАУГЛИ' 'lil Shordie Scott' 'Jung Kook'\n",
      " 'Nekoglai, ivanzolo2004' 'MAYBE BABY' 'SEEMEE, BUSHIDO ZHO'\n",
      " 'Oxxxymiron, EIGHTEEN' 'LSP, MORGENSHTERN' 'Central Cee'\n",
      " 'Zlyj Reper Zenyk' 'KISS' 'Panic! At The Disco' 'Сны Саламандры'\n",
      " 'ANIKV, SALUKI' '163ONMYNECK, Scally Milano' '163ONMYNECK, SEEMEE'\n",
      " 'Ivan Dorn' 'ATL' 'Adele' 'SLAVA MARLOW, Aarne' 'INSTASAMKA, MONEYKEN'\n",
      " 'kirkiimad' 'Oliver Tree' \"Ramil', Rompasso\" 'Croupie'\n",
      " 'Amaarae, Kali Uchis, Moliy' 'Marie Madeleine'\n",
      " 'Joel Corry, Jax Jones, Charli XCX, Saweetie' 'Coldplay, BTS'\n",
      " 'MORGENSHTERN, kizary' 'Jung Kook, BTS, FIFA Sound'\n",
      " 'Big Baby Tape, Young Moscow' 'southstar' 'OBLADAET, LIL KRYSTALLL' 'jon'\n",
      " 'nkeeei, uniqe, ARTEM SHILOVETS, Кореш' 'Egor Kreed, Mikhail Shufutinsky'\n",
      " 'Jakone, A.V.G' 'Pink Floyd, Andriy Khlyvnyuk' 'BUSHIDO ZHO, SODA LUV'\n",
      " 'Gunna, Future, Young Thug' 'benny blanco, BTS, Snoop Dogg'\n",
      " 'Electroforez, superkomfort' 'elarm' '17 SEVENTEEN, Sqwore'\n",
      " 'Basic Boy, Boulevard Depo, TVETH' 'OG Buda, Big Baby Tape'\n",
      " 'OG Buda, 163ONMYNECK' 'OG Buda, Jetix' 'OG Buda, Брутто'\n",
      " 'OG Buda, BUSHIDO ZHO, uglystephan, WormGanger'\n",
      " 'OG Buda, 163ONMYNECK, Yanix' 'OG Buda, Scally Milano' 'PSY, SUGA'\n",
      " 'OG Buda, SODA LUV' 'OG Buda, YN Jay' 'OG Buda, INDABLACK, 104'\n",
      " 'OG Buda, 163ONMYNECK, KrispyLife Kidd' 'Yanix, дора' 'vioria'\n",
      " 'kizaru, Milian Beatz, Lil Gotit'\n",
      " 'Олександр Пономарьов, Михайло Хома, Тарас Тополя, Євген Кошовий, Юрій Ткач, Петро Чорний'\n",
      " 'Pakkitka' 'payton' 'HammAli & Navai, MACAN' 'Rakhim, JONY'\n",
      " 'SODA LUV, MORGENSHTERN' 'PHARAOH, Dima Roux' 'Lida, MORGENSHTERN'\n",
      " 'АДЛИН, Килджо' 'Kordhell, Scarlxrd, CORPSE']\n"
     ]
    }
   ],
   "source": [
    "artists = get_artists(\"/data\")\n",
    "print(artists)\n",
    "write_artists(artists, \"new_artists.csv\")"
   ],
   "metadata": {
    "collapsed": false
   }
  },
  {
   "cell_type": "code",
   "execution_count": 17,
   "outputs": [
    {
     "name": "stdout",
     "output_type": "stream",
     "text": [
      "/home/sviat/code/Probability/SpotTheDifference/data/old_data\n",
      "/home/sviat/code/Probability/SpotTheDifference/data\n",
      "set()\n"
     ]
    }
   ],
   "source": [
    "new_artists = set(get_artists(\"/data/old_data\"))-set(get_artists(\"/data\"))\n",
    "print(new_artists)\n",
    "#write_artists(new_artists, \"new_new_artists.csv\")"
   ],
   "metadata": {
    "collapsed": false
   }
  },
  {
   "cell_type": "code",
   "execution_count": 17,
   "outputs": [],
   "source": [
    "all_artists = set(get_artists(\"/data\"))"
   ],
   "metadata": {
    "collapsed": false
   }
  },
  {
   "cell_type": "code",
   "execution_count": 86,
   "outputs": [],
   "source": [
    "def get_nationalities(path):\n",
    "    df = pd.read_csv(path, sep=\";\")\n",
    "    d = {}\n",
    "    for idx, row in df.iterrows():\n",
    "        d[row['artist']] = row['nation']\n",
    "    return d"
   ],
   "metadata": {
    "collapsed": false
   }
  },
  {
   "cell_type": "code",
   "execution_count": 87,
   "outputs": [],
   "source": [
    "artist_nations = get_nationalities(\"arstists_with_nations.csv\")"
   ],
   "metadata": {
    "collapsed": false
   }
  },
  {
   "cell_type": "code",
   "execution_count": 117,
   "outputs": [],
   "source": [
    "def parse_week(df, artists_nations):\n",
    "    res = {}\n",
    "    for idx, row in df.iterrows():\n",
    "        nation = artists_nations[row['artist_names']]\n",
    "        if \"/\" in nation:\n",
    "            l = nation.split(\"/\")\n",
    "            if l[0] == \"RU\":\n",
    "                nation = \"RU\"\n",
    "            else:\n",
    "                nation = \"UA\"\n",
    "        res[nation] = res.get(nation, 0) + row['streams']\n",
    "    return res"
   ],
   "metadata": {
    "collapsed": false
   }
  },
  {
   "cell_type": "code",
   "execution_count": 118,
   "outputs": [
    {
     "name": "stdout",
     "output_type": "stream",
     "text": [
      "{'UA': 2698259, 'EN': 3388128, 'RU': 2651719}\n"
     ]
    }
   ],
   "source": [
    "df = pd.read_csv(\"data/regional-ua-weekly-2022-12-15.csv\")\n",
    "print(parse_week(df, artist_nations))"
   ],
   "metadata": {
    "collapsed": false
   }
  },
  {
   "cell_type": "code",
   "execution_count": 119,
   "outputs": [],
   "source": [
    "def parse_all_weeks(path, artists_nations):\n",
    "    pattern  = r\"(\\d{4}-\\d{2}-\\d{2}\\.csv)\"\n",
    "    if not os.path.exists(\"parsed_by_streams\"):\n",
    "        os.mkdir(\"./\"  + \"/parsed_by_streams\")\n",
    "    for filename in sorted(os.listdir(path)):\n",
    "        f = path + \"/\" + filename\n",
    "        if f.endswith(\".csv\"):\n",
    "            new_name = re.search(pattern, filename)\n",
    "            new_name = new_name.group(1)\n",
    "            df = pd.read_csv(f)\n",
    "            res = parse_week(df, artists_nations)\n",
    "            new_df = pd.DataFrame(res, index=[0])\n",
    "            new_df.to_csv(\"./parsed_by_streams/\" + new_name, index=False, header=True)\n"
   ],
   "metadata": {
    "collapsed": false
   }
  },
  {
   "cell_type": "code",
   "execution_count": 120,
   "outputs": [],
   "source": [
    "parse_all_weeks(\"data\", artist_nations)"
   ],
   "metadata": {
    "collapsed": false
   }
  },
  {
   "cell_type": "code",
   "execution_count": 139,
   "outputs": [
    {
     "name": "stdout",
     "output_type": "stream",
     "text": [
      "/Users/matthewprytula/P&S/spotifyProject/parsed_by_streams\n",
      "/Users/matthewprytula/P&S/spotifyProject/parsed_by_quantity\n"
     ]
    }
   ],
   "source": [
    "df_by_streams = concat_info('/parsed_by_streams')\n",
    "df_by_quantity = concat_info('/parsed_by_quantity')\n",
    "df_by_streams.to_csv(\"joined_by_streams/joined_by_streams.csv\")\n",
    "df_by_quantity.to_csv(\"joined_by_quantity/joined_by_quantity.csv\")"
   ],
   "metadata": {
    "collapsed": false
   }
  },
  {
   "cell_type": "code",
   "execution_count": null,
   "outputs": [],
   "source": [],
   "metadata": {
    "collapsed": false,
    "pycharm": {
     "is_executing": true
    }
   }
  },
  {
   "cell_type": "code",
   "execution_count": 62,
   "outputs": [],
   "source": [],
   "metadata": {
    "collapsed": false
   }
  }
 ],
 "metadata": {
  "kernelspec": {
   "display_name": "Python 3",
   "language": "python",
   "name": "python3"
  },
  "language_info": {
   "codemirror_mode": {
    "name": "ipython",
    "version": 2
   },
   "file_extension": ".py",
   "mimetype": "text/x-python",
   "name": "python",
   "nbconvert_exporter": "python",
   "pygments_lexer": "ipython2",
   "version": "2.7.6"
  }
 },
 "nbformat": 4,
 "nbformat_minor": 0
}

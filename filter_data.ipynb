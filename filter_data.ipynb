{
 "cells": [
  {
   "cell_type": "code",
   "execution_count": 1,
   "metadata": {
    "collapsed": true
   },
   "outputs": [],
   "source": [
    "import pandas as pd\n",
    "import numpy as np\n",
    "import os\n",
    "import glob"
   ]
  },
  {
   "cell_type": "code",
   "execution_count": 2,
   "outputs": [],
   "source": [
    "def concat_info():\n",
    "    path = os.getcwd() + \"/data\"\n",
    "    print(path)\n",
    "    csv_files = glob.glob(os.path.join(path, \"*.csv\"))\n",
    "    df = pd.read_csv(csv_files[0])\n",
    "    for f in csv_files[1:]:\n",
    "        cur_df=pd.read_csv(f)\n",
    "        df = pd.concat([df, cur_df])\n",
    "\n",
    "    return df"
   ],
   "metadata": {
    "collapsed": false
   }
  },
  {
   "cell_type": "code",
   "execution_count": 65,
   "outputs": [
    {
     "name": "stdout",
     "output_type": "stream",
     "text": [
      "/Users/matthewprytula/P&S/spotifyProject/data\n"
     ]
    }
   ],
   "source": [
    "df = concat_info()\n",
    "df.to_csv(\"temp.csv\", sep=\";\")"
   ],
   "metadata": {
    "collapsed": false
   }
  },
  {
   "cell_type": "code",
   "execution_count": 10,
   "outputs": [],
   "source": [
    "def get_artists():\n",
    "    df = concat_info()\n",
    "    return df.artist_names.unique()"
   ],
   "metadata": {
    "collapsed": false
   }
  },
  {
   "cell_type": "code",
   "execution_count": 11,
   "outputs": [
    {
     "name": "stdout",
     "output_type": "stream",
     "text": [
      "/Users/matthewprytula/P&S/spotifyProject/data\n"
     ]
    }
   ],
   "source": [
    "df = concat_info()"
   ],
   "metadata": {
    "collapsed": false
   }
  },
  {
   "cell_type": "code",
   "execution_count": 58,
   "outputs": [],
   "source": [
    "def write_artists(df, filename):\n",
    "    artists = df[\"artist_names\"].unique()\n",
    "    with open(filename, 'w') as my_file:\n",
    "        my_file.write(\"artist; nation\\n\")\n",
    "        for i in artists:\n",
    "            my_file.write(i+\";\\n\")\n"
   ],
   "metadata": {
    "collapsed": false
   }
  },
  {
   "cell_type": "code",
   "execution_count": 59,
   "outputs": [],
   "source": [
    "write_artists(df, \"artists.csv\")"
   ],
   "metadata": {
    "collapsed": false
   }
  },
  {
   "cell_type": "code",
   "execution_count": null,
   "outputs": [],
   "source": [],
   "metadata": {
    "collapsed": false
   }
  }
 ],
 "metadata": {
  "kernelspec": {
   "display_name": "Python 3",
   "language": "python",
   "name": "python3"
  },
  "language_info": {
   "codemirror_mode": {
    "name": "ipython",
    "version": 2
   },
   "file_extension": ".py",
   "mimetype": "text/x-python",
   "name": "python",
   "nbconvert_exporter": "python",
   "pygments_lexer": "ipython2",
   "version": "2.7.6"
  }
 },
 "nbformat": 4,
 "nbformat_minor": 0
}

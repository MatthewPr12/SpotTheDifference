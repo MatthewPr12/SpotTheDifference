{
 "cells": [
  {
   "cell_type": "code",
   "execution_count": 1,
   "metadata": {
    "collapsed": true
   },
   "outputs": [],
   "source": [
    "import pandas as pd\n",
    "import numpy as np\n",
    "import sys\n",
    "import os\n",
    "import glob"
   ]
  },
  {
   "cell_type": "code",
   "execution_count": 2,
   "outputs": [],
   "source": [
    "def concat_info():\n",
    "    path = os.getcwd() + \"/data\"\n",
    "    print(path)\n",
    "    csv_files = glob.glob(os.path.join(path, \"*.csv\"))\n",
    "    df = pd.read_csv(csv_files[0])\n",
    "    for f in csv_files[1:]:\n",
    "        cur_df=pd.read_csv(f)\n",
    "        df = pd.concat([df, cur_df])\n",
    "\n",
    "        # print()\n",
    "    return df"
   ],
   "metadata": {
    "collapsed": false
   }
  },
  {
   "cell_type": "code",
   "execution_count": 3,
   "outputs": [
    {
     "name": "stdout",
     "output_type": "stream",
     "text": [
      "/Users/matthewprytula/P&S/spotifyProject/data\n"
     ]
    },
    {
     "data": {
      "text/plain": "     rank                                   uri               artist_names  \\\n0       1  spotify:track:3nqQXoyQOWXiESFLlDF1hG      Sam Smith, Kim Petras   \n1       2  spotify:track:2uNrriUaePhbbmsXT8HQJU                 INSTASAMKA   \n2       3  spotify:track:4Yzlz45QgjUKZmN2KrK4AP                     Skofka   \n3       4  spotify:track:6qyS9qBy0mEk3qYaH8mPss                   Kordhell   \n4       5  spotify:track:4oHEJ5KPf9hW1pDyQYIRIw  Aarne, BUSHIDO ZHO, ANIKV   \n..    ...                                   ...                        ...   \n195   196  spotify:track:1CAnIsztlPtQ9JUpHHtTQL                     LOVV66   \n196   197  spotify:track:7FUzvOhDj64gFgjex5St3Y                     LOVV66   \n197   198  spotify:track:35LIFNsMZjGJhLvRYAYxTX                Где Фантом?   \n198   199  spotify:track:7qQ6u1BXb0lys5vuVZkj2h        Miyagi & Andy Panda   \n199   200  spotify:track:6jfyE4yAr6kc2Vthham31E           Ramil', Rompasso   \n\n                    track_name             source  peak_rank  previous_rank  \\\n0    Unholy (feat. Kim Petras)                EMI          1             -1   \n1                      POPSTAR    NaMneCash Music          1              1   \n2                    Чути гімн     Columbia Local          1              2   \n3            Murder In My Mind           Kordhell          3              4   \n4                        Тесно            AA Team          1              3   \n..                         ...                ...        ...            ...   \n195             ОНА ЗАБЫЛА ЕГО          KISSKOALA        153            153   \n196                  Трап Трап          KISSKOALA         16            186   \n197               Я тебя люблю        Студия СОЮЗ         39            189   \n198            Там ревели горы     Hajime Records         25             -1   \n199                  Убей Меня  Effective Records        118            121   \n\n     weeks_on_chart  streams  \n0                 1   290419  \n1                 2   190591  \n2                 9   139585  \n3                24   124639  \n4                 8   118765  \n..              ...      ...  \n195               3    28165  \n196              25    28092  \n197              24    28054  \n198              61    27807  \n199               4    27794  \n\n[11200 rows x 9 columns]",
      "text/html": "<div>\n<style scoped>\n    .dataframe tbody tr th:only-of-type {\n        vertical-align: middle;\n    }\n\n    .dataframe tbody tr th {\n        vertical-align: top;\n    }\n\n    .dataframe thead th {\n        text-align: right;\n    }\n</style>\n<table border=\"1\" class=\"dataframe\">\n  <thead>\n    <tr style=\"text-align: right;\">\n      <th></th>\n      <th>rank</th>\n      <th>uri</th>\n      <th>artist_names</th>\n      <th>track_name</th>\n      <th>source</th>\n      <th>peak_rank</th>\n      <th>previous_rank</th>\n      <th>weeks_on_chart</th>\n      <th>streams</th>\n    </tr>\n  </thead>\n  <tbody>\n    <tr>\n      <th>0</th>\n      <td>1</td>\n      <td>spotify:track:3nqQXoyQOWXiESFLlDF1hG</td>\n      <td>Sam Smith, Kim Petras</td>\n      <td>Unholy (feat. Kim Petras)</td>\n      <td>EMI</td>\n      <td>1</td>\n      <td>-1</td>\n      <td>1</td>\n      <td>290419</td>\n    </tr>\n    <tr>\n      <th>1</th>\n      <td>2</td>\n      <td>spotify:track:2uNrriUaePhbbmsXT8HQJU</td>\n      <td>INSTASAMKA</td>\n      <td>POPSTAR</td>\n      <td>NaMneCash Music</td>\n      <td>1</td>\n      <td>1</td>\n      <td>2</td>\n      <td>190591</td>\n    </tr>\n    <tr>\n      <th>2</th>\n      <td>3</td>\n      <td>spotify:track:4Yzlz45QgjUKZmN2KrK4AP</td>\n      <td>Skofka</td>\n      <td>Чути гімн</td>\n      <td>Columbia Local</td>\n      <td>1</td>\n      <td>2</td>\n      <td>9</td>\n      <td>139585</td>\n    </tr>\n    <tr>\n      <th>3</th>\n      <td>4</td>\n      <td>spotify:track:6qyS9qBy0mEk3qYaH8mPss</td>\n      <td>Kordhell</td>\n      <td>Murder In My Mind</td>\n      <td>Kordhell</td>\n      <td>3</td>\n      <td>4</td>\n      <td>24</td>\n      <td>124639</td>\n    </tr>\n    <tr>\n      <th>4</th>\n      <td>5</td>\n      <td>spotify:track:4oHEJ5KPf9hW1pDyQYIRIw</td>\n      <td>Aarne, BUSHIDO ZHO, ANIKV</td>\n      <td>Тесно</td>\n      <td>AA Team</td>\n      <td>1</td>\n      <td>3</td>\n      <td>8</td>\n      <td>118765</td>\n    </tr>\n    <tr>\n      <th>...</th>\n      <td>...</td>\n      <td>...</td>\n      <td>...</td>\n      <td>...</td>\n      <td>...</td>\n      <td>...</td>\n      <td>...</td>\n      <td>...</td>\n      <td>...</td>\n    </tr>\n    <tr>\n      <th>195</th>\n      <td>196</td>\n      <td>spotify:track:1CAnIsztlPtQ9JUpHHtTQL</td>\n      <td>LOVV66</td>\n      <td>ОНА ЗАБЫЛА ЕГО</td>\n      <td>KISSKOALA</td>\n      <td>153</td>\n      <td>153</td>\n      <td>3</td>\n      <td>28165</td>\n    </tr>\n    <tr>\n      <th>196</th>\n      <td>197</td>\n      <td>spotify:track:7FUzvOhDj64gFgjex5St3Y</td>\n      <td>LOVV66</td>\n      <td>Трап Трап</td>\n      <td>KISSKOALA</td>\n      <td>16</td>\n      <td>186</td>\n      <td>25</td>\n      <td>28092</td>\n    </tr>\n    <tr>\n      <th>197</th>\n      <td>198</td>\n      <td>spotify:track:35LIFNsMZjGJhLvRYAYxTX</td>\n      <td>Где Фантом?</td>\n      <td>Я тебя люблю</td>\n      <td>Студия СОЮЗ</td>\n      <td>39</td>\n      <td>189</td>\n      <td>24</td>\n      <td>28054</td>\n    </tr>\n    <tr>\n      <th>198</th>\n      <td>199</td>\n      <td>spotify:track:7qQ6u1BXb0lys5vuVZkj2h</td>\n      <td>Miyagi &amp; Andy Panda</td>\n      <td>Там ревели горы</td>\n      <td>Hajime Records</td>\n      <td>25</td>\n      <td>-1</td>\n      <td>61</td>\n      <td>27807</td>\n    </tr>\n    <tr>\n      <th>199</th>\n      <td>200</td>\n      <td>spotify:track:6jfyE4yAr6kc2Vthham31E</td>\n      <td>Ramil', Rompasso</td>\n      <td>Убей Меня</td>\n      <td>Effective Records</td>\n      <td>118</td>\n      <td>121</td>\n      <td>4</td>\n      <td>27794</td>\n    </tr>\n  </tbody>\n</table>\n<p>11200 rows × 9 columns</p>\n</div>"
     },
     "metadata": {},
     "output_type": "display_data"
    },
    {
     "name": "stdout",
     "output_type": "stream",
     "text": [
      "/Users/matthewprytula/P&S/spotifyProject/data\n"
     ]
    },
    {
     "data": {
      "text/plain": "rank               int64\nuri               object\nartist_names      object\ntrack_name        object\nsource            object\npeak_rank          int64\nprevious_rank      int64\nweeks_on_chart     int64\nstreams            int64\ndtype: object"
     },
     "execution_count": 3,
     "metadata": {},
     "output_type": "execute_result"
    }
   ],
   "source": [
    "display(concat_info())\n",
    "concat_info().dtypes"
   ],
   "metadata": {
    "collapsed": false
   }
  },
  {
   "cell_type": "code",
   "execution_count": 10,
   "outputs": [],
   "source": [
    "def get_artists():\n",
    "    df = concat_info()\n",
    "    return df.artist_names.unique()"
   ],
   "metadata": {
    "collapsed": false
   }
  },
  {
   "cell_type": "code",
   "execution_count": 11,
   "outputs": [
    {
     "name": "stdout",
     "output_type": "stream",
     "text": [
      "/Users/matthewprytula/P&S/spotifyProject/data\n"
     ]
    }
   ],
   "source": [
    "df = concat_info()"
   ],
   "metadata": {
    "collapsed": false
   }
  },
  {
   "cell_type": "code",
   "execution_count": 58,
   "outputs": [],
   "source": [
    "def write_artists(df, filename):\n",
    "    artists = df[\"artist_names\"].unique()\n",
    "    with open(filename, 'w') as my_file:\n",
    "        my_file.write(\"artist; nation\\n\")\n",
    "        for i in artists:\n",
    "            my_file.write(i+\";\\n\")\n"
   ],
   "metadata": {
    "collapsed": false
   }
  },
  {
   "cell_type": "code",
   "execution_count": 59,
   "outputs": [],
   "source": [
    "write_artists(df, \"artists.csv\")"
   ],
   "metadata": {
    "collapsed": false
   }
  }
 ],
 "metadata": {
  "kernelspec": {
   "display_name": "Python 3",
   "language": "python",
   "name": "python3"
  },
  "language_info": {
   "codemirror_mode": {
    "name": "ipython",
    "version": 2
   },
   "file_extension": ".py",
   "mimetype": "text/x-python",
   "name": "python",
   "nbconvert_exporter": "python",
   "pygments_lexer": "ipython2",
   "version": "2.7.6"
  }
 },
 "nbformat": 4,
 "nbformat_minor": 0
}

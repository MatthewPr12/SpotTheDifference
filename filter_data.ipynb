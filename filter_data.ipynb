{
 "cells": [
  {
   "cell_type": "code",
   "execution_count": 13,
   "metadata": {
    "collapsed": true
   },
   "outputs": [],
   "source": [
    "import pandas as pd\n",
    "import numpy as np\n",
    "import sys\n",
    "import os\n",
    "import glob"
   ]
  },
  {
   "cell_type": "code",
   "execution_count": 27,
   "outputs": [],
   "source": [
    "def concat_info():\n",
    "    path = os.getcwd() + \"/data\"\n",
    "    print(path)\n",
    "    csv_files = glob.glob(os.path.join(path, \"*.csv\"))\n",
    "    df = pd.read_csv(csv_files[0])\n",
    "    for f in csv_files[1:]:\n",
    "        cur_df=pd.read_csv(f)\n",
    "        df = pd.concat([df, cur_df])\n",
    "\n",
    "        # print()\n",
    "    return df"
   ],
   "metadata": {
    "collapsed": false
   }
  },
  {
   "cell_type": "code",
   "execution_count": 28,
   "outputs": [
    {
     "name": "stdout",
     "output_type": "stream",
     "text": [
      "/Users/matthewprytula/P&S/spotifyProject/data\n"
     ]
    },
    {
     "data": {
      "text/plain": "     rank                                   uri               artist_names  \\\n0       1  spotify:track:3nqQXoyQOWXiESFLlDF1hG      Sam Smith, Kim Petras   \n1       2  spotify:track:2uNrriUaePhbbmsXT8HQJU                 INSTASAMKA   \n2       3  spotify:track:4Yzlz45QgjUKZmN2KrK4AP                     Skofka   \n3       4  spotify:track:6qyS9qBy0mEk3qYaH8mPss                   Kordhell   \n4       5  spotify:track:4oHEJ5KPf9hW1pDyQYIRIw  Aarne, BUSHIDO ZHO, ANIKV   \n..    ...                                   ...                        ...   \n195   196  spotify:track:1CAnIsztlPtQ9JUpHHtTQL                     LOVV66   \n196   197  spotify:track:7FUzvOhDj64gFgjex5St3Y                     LOVV66   \n197   198  spotify:track:35LIFNsMZjGJhLvRYAYxTX                Где Фантом?   \n198   199  spotify:track:7qQ6u1BXb0lys5vuVZkj2h        Miyagi & Andy Panda   \n199   200  spotify:track:6jfyE4yAr6kc2Vthham31E           Ramil', Rompasso   \n\n                    track_name             source  peak_rank  previous_rank  \\\n0    Unholy (feat. Kim Petras)                EMI          1             -1   \n1                      POPSTAR    NaMneCash Music          1              1   \n2                    Чути гімн     Columbia Local          1              2   \n3            Murder In My Mind           Kordhell          3              4   \n4                        Тесно            AA Team          1              3   \n..                         ...                ...        ...            ...   \n195             ОНА ЗАБЫЛА ЕГО          KISSKOALA        153            153   \n196                  Трап Трап          KISSKOALA         16            186   \n197               Я тебя люблю        Студия СОЮЗ         39            189   \n198            Там ревели горы     Hajime Records         25             -1   \n199                  Убей Меня  Effective Records        118            121   \n\n     weeks_on_chart  streams  \n0                 1   290419  \n1                 2   190591  \n2                 9   139585  \n3                24   124639  \n4                 8   118765  \n..              ...      ...  \n195               3    28165  \n196              25    28092  \n197              24    28054  \n198              61    27807  \n199               4    27794  \n\n[11200 rows x 9 columns]",
      "text/html": "<div>\n<style scoped>\n    .dataframe tbody tr th:only-of-type {\n        vertical-align: middle;\n    }\n\n    .dataframe tbody tr th {\n        vertical-align: top;\n    }\n\n    .dataframe thead th {\n        text-align: right;\n    }\n</style>\n<table border=\"1\" class=\"dataframe\">\n  <thead>\n    <tr style=\"text-align: right;\">\n      <th></th>\n      <th>rank</th>\n      <th>uri</th>\n      <th>artist_names</th>\n      <th>track_name</th>\n      <th>source</th>\n      <th>peak_rank</th>\n      <th>previous_rank</th>\n      <th>weeks_on_chart</th>\n      <th>streams</th>\n    </tr>\n  </thead>\n  <tbody>\n    <tr>\n      <th>0</th>\n      <td>1</td>\n      <td>spotify:track:3nqQXoyQOWXiESFLlDF1hG</td>\n      <td>Sam Smith, Kim Petras</td>\n      <td>Unholy (feat. Kim Petras)</td>\n      <td>EMI</td>\n      <td>1</td>\n      <td>-1</td>\n      <td>1</td>\n      <td>290419</td>\n    </tr>\n    <tr>\n      <th>1</th>\n      <td>2</td>\n      <td>spotify:track:2uNrriUaePhbbmsXT8HQJU</td>\n      <td>INSTASAMKA</td>\n      <td>POPSTAR</td>\n      <td>NaMneCash Music</td>\n      <td>1</td>\n      <td>1</td>\n      <td>2</td>\n      <td>190591</td>\n    </tr>\n    <tr>\n      <th>2</th>\n      <td>3</td>\n      <td>spotify:track:4Yzlz45QgjUKZmN2KrK4AP</td>\n      <td>Skofka</td>\n      <td>Чути гімн</td>\n      <td>Columbia Local</td>\n      <td>1</td>\n      <td>2</td>\n      <td>9</td>\n      <td>139585</td>\n    </tr>\n    <tr>\n      <th>3</th>\n      <td>4</td>\n      <td>spotify:track:6qyS9qBy0mEk3qYaH8mPss</td>\n      <td>Kordhell</td>\n      <td>Murder In My Mind</td>\n      <td>Kordhell</td>\n      <td>3</td>\n      <td>4</td>\n      <td>24</td>\n      <td>124639</td>\n    </tr>\n    <tr>\n      <th>4</th>\n      <td>5</td>\n      <td>spotify:track:4oHEJ5KPf9hW1pDyQYIRIw</td>\n      <td>Aarne, BUSHIDO ZHO, ANIKV</td>\n      <td>Тесно</td>\n      <td>AA Team</td>\n      <td>1</td>\n      <td>3</td>\n      <td>8</td>\n      <td>118765</td>\n    </tr>\n    <tr>\n      <th>...</th>\n      <td>...</td>\n      <td>...</td>\n      <td>...</td>\n      <td>...</td>\n      <td>...</td>\n      <td>...</td>\n      <td>...</td>\n      <td>...</td>\n      <td>...</td>\n    </tr>\n    <tr>\n      <th>195</th>\n      <td>196</td>\n      <td>spotify:track:1CAnIsztlPtQ9JUpHHtTQL</td>\n      <td>LOVV66</td>\n      <td>ОНА ЗАБЫЛА ЕГО</td>\n      <td>KISSKOALA</td>\n      <td>153</td>\n      <td>153</td>\n      <td>3</td>\n      <td>28165</td>\n    </tr>\n    <tr>\n      <th>196</th>\n      <td>197</td>\n      <td>spotify:track:7FUzvOhDj64gFgjex5St3Y</td>\n      <td>LOVV66</td>\n      <td>Трап Трап</td>\n      <td>KISSKOALA</td>\n      <td>16</td>\n      <td>186</td>\n      <td>25</td>\n      <td>28092</td>\n    </tr>\n    <tr>\n      <th>197</th>\n      <td>198</td>\n      <td>spotify:track:35LIFNsMZjGJhLvRYAYxTX</td>\n      <td>Где Фантом?</td>\n      <td>Я тебя люблю</td>\n      <td>Студия СОЮЗ</td>\n      <td>39</td>\n      <td>189</td>\n      <td>24</td>\n      <td>28054</td>\n    </tr>\n    <tr>\n      <th>198</th>\n      <td>199</td>\n      <td>spotify:track:7qQ6u1BXb0lys5vuVZkj2h</td>\n      <td>Miyagi &amp; Andy Panda</td>\n      <td>Там ревели горы</td>\n      <td>Hajime Records</td>\n      <td>25</td>\n      <td>-1</td>\n      <td>61</td>\n      <td>27807</td>\n    </tr>\n    <tr>\n      <th>199</th>\n      <td>200</td>\n      <td>spotify:track:6jfyE4yAr6kc2Vthham31E</td>\n      <td>Ramil', Rompasso</td>\n      <td>Убей Меня</td>\n      <td>Effective Records</td>\n      <td>118</td>\n      <td>121</td>\n      <td>4</td>\n      <td>27794</td>\n    </tr>\n  </tbody>\n</table>\n<p>11200 rows × 9 columns</p>\n</div>"
     },
     "metadata": {},
     "output_type": "display_data"
    }
   ],
   "source": [
    "display(concat_info())"
   ],
   "metadata": {
    "collapsed": false
   }
  },
  {
   "cell_type": "code",
   "execution_count": 29,
   "outputs": [],
   "source": [
    "def get_artists():\n",
    "    df = concat_info()\n",
    "    return df.artist_names.unique()"
   ],
   "metadata": {
    "collapsed": false
   }
  },
  {
   "cell_type": "code",
   "execution_count": 32,
   "outputs": [
    {
     "name": "stdout",
     "output_type": "stream",
     "text": [
      "/Users/matthewprytula/P&S/spotifyProject/data\n",
      "['Sam Smith, Kim Petras' 'INSTASAMKA' 'Skofka' 'Kordhell'\n",
      " 'Aarne, BUSHIDO ZHO, ANIKV' 'MUPP, Sadfriendd' 'xxxmanera'\n",
      " 'uglystephan, Scally Milano' 'KALUSH, Skofka' 'Imagine Dragons' 'ENLEO'\n",
      " 'jockii druce' 'Dxrk ダーク' 'PLAYAMANE, Nateki' 'Clonnex' 'Tom Odell'\n",
      " 'ONIMXRU, SMITHMANE' 'Rosa Walton, Hallie Coggins' 'INTERWORLD'\n",
      " 'KALUSH, Kalush Orchestra' 'MoonDeity' 'The Neighbourhood'\n",
      " 'Chico, Qatoshi' 'SadSvit' 'Mr.Kitty' 'Oxxxymiron' 'KOLA'\n",
      " 'KALUSH, Tember Blanche' 'SHUMEI' 'Шайни' '100лиця, SKYLERR' 'Кореш'\n",
      " 'YARMAK, ALISA' 'PLOHOYPAREN' 'BUSHIDO ZHO'\n",
      " 'alyona alyona, Jerry Heil, ela.' 'БРЕДИШЬ' 'shadowraze' 'Chris Brown'\n",
      " 'Arut, MORGENSHTERN' 'Ghost' 'Молодой Платон, Poshlaya Molly, Yanix'\n",
      " 'АДЛИН' 'uglystephan archive' 'BLACKPINK' 'ScurtDae' 'DVRST' 'Jerry Heil'\n",
      " 'Мюслі UA' 'Scally Milano, uglystephan' 'David Guetta, Bebe Rexha'\n",
      " 'анастимоза' 'КАКАЯ РАЗНИЦА' 'Hensonn' 'Wellboy'\n",
      " 'Artem Pivovarov, DOROFEEVA' 'XXXTENTACION'\n",
      " 'Милана Хаметова, Milana Star' 'Rammstein' 'Кореш, treepside' 'zxcursed'\n",
      " 'Harry Styles' 'Ghostface Playa' 'KUTE' 'Odyn v Kanoe' 'хейтспіч'\n",
      " 'H8.HOOD' 'Lil Peep' 'Big Baby Tape, kizaru' 'VovaZiLvova, Morphom'\n",
      " 'Scally Milano, OG Buda' 'Eminem, Dina Rae' 'Ed Sheeran, Antytila'\n",
      " 'CHEEV' 'kizaru' 'WENARO, LXNER' 'remember.' 'Surf Curse' 'FACE'\n",
      " 'Nirvana' 'OneRepublic' \"Motor'Rolla\" 'Artem Pivovarov'\n",
      " 'Taras Chubay, Плач Єремії' 'alyona alyona, Jerry Heil'\n",
      " 'shadowraze, LXNER, quiizzzmeow' 'Scally Milano'\n",
      " 'uniqe, nkeeei, ARTEM SHILOVETS' 'Мюслі UA, VASIA CHARISMA'\n",
      " 'Beach Weather' 'Imagine Dragons, JID, Arcane, League of Legends'\n",
      " 'Kate Bush' 'FACE, Squirrel Flower' 'PROBASS ∆ HARDI' 'ATELLWULF'\n",
      " 'Isolate.exe' 'RAT BOY, IBDY' 'KRBK' 'Eyedress' 'Кишлак'\n",
      " 'The Weeknd, Gesaffelstein' 'Cheriimoya, Sierra Kidd' 'Маша Кондратенко'\n",
      " 'MamaRika' 'Jerry Heil, Verka Serduchka' 'Valentin Strykalo' 'mazie'\n",
      " 'SHADXWBXRN, ARCHEZ, KXNVRA' 'Lil Nas X' 'Arctic Monkeys'\n",
      " 'Arut, Big Baby Tape' 'KALUSH' \"10AGE, Ramil'\" 'PlayaPhonk'\n",
      " 'Twisted Sister' 'Funk Tribu' 'fem.love' 'Sasha Chemerov, Boombox'\n",
      " 'Elley Duhé' 'Xantesha' 'LIL MORTY' 'KSLV Noh' 'Epolets'\n",
      " 'Eliza Rose, Interplanetary Criminal' 'Phonkha, zecki' 'Glass Animals'\n",
      " 'shadowraze, babyswishh1' 'MC ORSEN' 'The Weeknd' 'uglystephan'\n",
      " 'Jakone, A.V.G, Итачи' 'VISXGE' 'MONATIK' 'ssshhhiiittt!' 'ПОЛМАТЕРИ'\n",
      " 'GRAVECHILL' 'Khrystyna Soloviy' 'Okean Elzy, Odyn v Kanoe'\n",
      " 'СЕРЕГА ПИРАТ' 'Eminem' 'Bahroma' 'Electroforez, superkomfort'\n",
      " 'rizza, Sqwore' 'nkeeei, uniqe, ARTEM SHILOVETS, MAYOT' 'LAUD'\n",
      " 'Skryptonite' 'вышел покурить' 'Patsyki Z Franeka' 'JojoHF' 'Boombox'\n",
      " 'Автостопом по фазе сна' 'KENTUKKI' 'To Eternity' 'Steve Lacy'\n",
      " 'OG Buda, MAYOT, SEEMEE, Magnum Opus, Scally Milano, YUNGWAY, BUSHIDO ZHO'\n",
      " 'elarm' 'WEEDMANE, Suicideyear' 'GONE.Fludd' 'Pixies'\n",
      " 'CORPSE, Scarlxrd, Kordhell' 'KISS' 'OG Buda' 'Sxmpra'\n",
      " 'VACÍO, MORGENSHTERN' 'DAYTON, Shnaps' 'Схожа' 'Manu Chao'\n",
      " 'Showbiz School' 'Yeat' '1nonly, Sxmpra' 'Lely45'\n",
      " '163ONMYNECK, BUSHIDO ZHO' 'Aarne, MORGENSHTERN' 'Минин'\n",
      " 'The Kid LAROI, Justin Bieber' 'AURORA' 'Sx1nxwy' 'Tof, Білий Бо' 'yef'\n",
      " 'Mareux' 'staplegun' 'Scally Milano, LOVV66' 'OBLADAET, LIL KRYSTALLL'\n",
      " 'southstar' 'nkeeei, uniqe, ARTEM SHILOVETS, Кореш' 'MAX BARSKIH'\n",
      " 'Нумер 482' 'СТРУКТУРА ЩАСТЯ' 'Aarne, Yanix, SEEMEE'\n",
      " 'MC Mazzie, Mc Rd, DJ NpcSize, DJ Wizard' 'Oliver Tree, Robin Schulz'\n",
      " 'KALUSH, Khrystyna Soloviy' 'Korol i Shut' 'quiizzzmeow' 'артилерія'\n",
      " 'Okean Elzy' 'Yanix, дора' 'KALUSH, Сальто Назад, Skofka' 'BALKON'\n",
      " 'vioria' 'The Limba, MORGENSHTERN' 'The Kiffness, Boombox'\n",
      " 'Arsen Mirzoyan' 'Miyagi & Andy Panda' 'yatashigang'\n",
      " 'Poshlaya Molly, HOFMANNITA' 'Lil Yachty' 'Måneskin' 'Канги, Galust'\n",
      " '100лиця' 'TATISIZE, PASHASNICKERS' 'Karta Svitu' 'ASKEt'\n",
      " 'SCXR SOUL, Sx1nxwy' 'LOVV66' 'Анна Тринчер, MBreeze'\n",
      " 'Artem Pivovarov, alyona alyona' 'Kenshi Yonezu' 'MBreeze' 'd4vd'\n",
      " 'girl in red' 'TVORCHI' 'MGMT' 'VovaZiLvova, MamaRika'\n",
      " 'Анна Тринчер, POSITIFF' 'Lil God Dan' 'АДЛИН, Килджо' 'Stray Kids'\n",
      " 'Kordhell, Scarlxrd, CORPSE' 'kizaru, Duke Deuce'\n",
      " 'Poshlaya Molly, Молодой Платон' 'Max Korzh' 'j-hope' 'Joji'\n",
      " 'V $ X V PRiNCE' 'DJ GLK' 'Skryptonite, Райда' 'Poshlaya Molly, Eldzhey'\n",
      " 'Charlie Puth, Jung Kook, BTS' 'KALUSH, Jerry Heil'\n",
      " 'Big Baby Tape, Молодой Платон' 'Miyagi & Andy Panda, Mav-d' 'Cypis'\n",
      " 'Violetta Sokolova' 'Calvin Harris, Dua Lipa' 'SODA LUV, BUSHIDO ZHO'\n",
      " 'Tiësto, Ava Max' 'pyrokinesis, MUKKA' 'Lil Nas X, Jack Harlow'\n",
      " 'MORGENSHTERN' 'ROCKET' 'shadowraze, GENJUTSU' 'Minelli' 'ooes'\n",
      " 'Artem Pivovarov, KALUSH' 'Markul' 'Kambulat' 'Nervy' 'LIZER'\n",
      " 'Poshlaya Molly' 'конец солнечных дней' 'SHADXWBXRN' 'ZODIVK' 'Xcho'\n",
      " 'zhanulka' 'BONES' 'shadowraze, shinra' 'OG Buda, MAYOT'\n",
      " 'OG Buda, Scally Milano, 163ONMYNECK' 'Медовий Полин' 'Мері'\n",
      " 'Дора, MAYBE BABY' 'semmmyq, shinra' 'Перемотка' 'Boulevard Depo'\n",
      " 'OG Buda, 17 SEVENTEEN, MAYOT' 'Antytila' 'Платина, Дора' 'GAYLE'\n",
      " 'JojoHF, nevroz' 'Три дня дождя' 'GAYAZOV$ BROTHER$' 'Alyona Shvets'\n",
      " 'BRANYA, MACAN' 'Kaito Shoma, DJ Paul, Kingpin Skinny Pimp'\n",
      " 'OG Buda, Дора' 'КОСМОНАВТОВ НЕТ'\n",
      " 'nkeeei, uniqe, ARTEM SHILOVETS, SAGARA'\n",
      " 'LXST CXNTURY, Kingpin Skinny Pimp' 'нексюша' 'PSY, SUGA' 'niteboi'\n",
      " 'Олександр Пономарьов, Михайло Хома, Тарас Тополя, Євген Кошовий, Юрій Ткач, Петро Чорний'\n",
      " 'Ghostface Playa, fkbambam' 'MACAN' 'Платина' 'THRILL PILL' '163ONMYNECK'\n",
      " 'Дора' 'Ed Sheeran' 'BEZ OBMEZHEN' 'Дайте танк (!)' 'Go_A' 'BOTASHE'\n",
      " 'Платина, OG Buda, MAYOT' 'Платина, Big Baby Tape' 'Nikitata'\n",
      " 'Папин Олимпос' 'The Yurcash' 'pyrokinesis' 'Skryabin' 'Griffinilla'\n",
      " 'Даня Милохин, Mumiy Troll' 'Sqwore' 'LIL KRYSTALLL' 'OBLADAET'\n",
      " 'Lusia Chebotina' 'BoyWithUke' 'Xdinary Heroes' 'DSPRITE'\n",
      " 'Boulevard Depo, SP4K' 'payton' 'Miyagi & Andy Panda, TumaniYO'\n",
      " 'Egor Kreed' 'LOBODA' 'Wham!' 'Ollane, MiyaGi' 'HammAli & Navai, MACAN'\n",
      " 'Bobby Helms' 'Twinky' 'Benedixhion' 'METAN' 'Mnogoznaal' 'Mariah Carey'\n",
      " 'Brenda Lee' 'siouxxie sixxsta' 'SALES' 'SODA LUV' 'Sqwore, rizza'\n",
      " 'HammAli & Navai' 'The Rare Occasions' 'Pornofilmy'\n",
      " 'MORGENSHTERN, SODA LUV, OG Buda, blago white, MAYOT' 'Rakhim, JONY'\n",
      " '10AGE' 'Elton John, Dua Lipa, PNAU' 'Ежемесячные'\n",
      " 'HammAli & Navai, Jah Khalib' 'LISA' 'Tiësto' 'OBLADAET, THRILL PILL'\n",
      " 'SODA LUV, WHY, BERRY' 'GUMA' 'IC3PEAK, Oli Sykes, Bring Me The Horizon'\n",
      " 'DEAD BLONDE' 'Skryptonite, 104' 'Grigory Leps, Irina Allegrova'\n",
      " 'JONY, HammAli' 'MiyaGi' 'ACRAZE, Cherish' 'Ivan Dorn'\n",
      " 'escape, Даня Милохин' 'NЮ' 'Adele' 'MiyaGi & Endspiel, Rem Digga'\n",
      " 'OG Buda, Polyana' 'Pathetic' 'SLAVA MARLOW, Aarne' 'Dzharakhov, Markul'\n",
      " 'Tima Belorusskih' 'Masked Wolf' 'SODA LUV, MORGENSHTERN'\n",
      " 'OBLADAET, JEEMBO' 'Kaito Shoma' 'Sia' 'Swedish House Mafia, The Weeknd'\n",
      " 'Doja Cat' 'Jaymes Young'\n",
      " 'Geegun, Egor Kreed, The Limba, blago white, OG Buda, Timati, SODA LUV, GUF'\n",
      " 'Ezekiel' 'kirkiimad' 'Oliver Tree' 'Ваня Дмитриенко' 'ATL'\n",
      " 'INSTASAMKA, MONEYKEN' \"Ramil', Rompasso\" 'Croupie'\n",
      " 'Amaarae, Kali Uchis, Moliy' 'Marie Madeleine' 'LOLIWZ'\n",
      " 'Joel Corry, Jax Jones, Charli XCX, Saweetie' 'Где Фантом?'\n",
      " 'Coldplay, BTS' 'Galibri & Mavik' 'PHARAOH'\n",
      " 'LIL KRYSTALLL, Лоя (5sta Family)' 'KALUSH, Kalush Orchestra, The Rasmus'\n",
      " 'MORGENSHTERN, The Limba' 'MORGENSHTERN, LSP' 'MORGENSHTERN, ENTYPE'\n",
      " 'MORGENSHTERN, Eldzhey' 'g3ox_em' '(G)I-DLE' 'Taylor Swift'\n",
      " 'Oxxxymiron, EIGHTEEN' 'OG Buda, Big Baby Tape' 'OG Buda, 163ONMYNECK'\n",
      " 'OG Buda, Jetix' 'OG Buda, Брутто'\n",
      " 'OG Buda, BUSHIDO ZHO, uglystephan, WormGanger'\n",
      " 'OG Buda, 163ONMYNECK, Yanix' 'OG Buda, Scally Milano'\n",
      " 'OG Buda, SODA LUV' 'OG Buda, YN Jay' 'OG Buda, INDABLACK, 104' 'Gibbs'\n",
      " 'SLAVA MARLOW' 'OG Buda, 163ONMYNECK, KrispyLife Kidd'\n",
      " 'ALEKS ATAMAN, FINIK' 'Egor Kreed, MakSim' 'КОСМОНАВТОВ НЕТ, дипинс'\n",
      " '163ONMYNECK, OG Buda' '163ONMYNECK, Yanix, FEARMUCH, Scally Milano'\n",
      " 'Konfuz' 'Вектор А' 'DOROFEEVA' 'Slattcrank, LUCIE' 'Labrinth'\n",
      " 'хочуспать' 'LXNER, quiizzzmeow' 'Сны Саламандры' 'Jung Kook'\n",
      " 'Daybe, Tenderlybae' 'ANIKV, SALUKI' '163ONMYNECK, Scally Milano' 'MUKKA'\n",
      " 'Rebzyyx, hoshie star' 'Антон Токарев' 'Yung Lean' '163ONMYNECK, SEEMEE'\n",
      " '3TERNITY, OG Buda' 'MORGENSHTERN, Aarne' 'дипинс' 'O.G EzzY' 'Metallica'\n",
      " 'АКУЛИЧ, vafom' 'Tartak' 'LSP, MORGENSHTERN' 'EeOneGuy' 'Zhadan i Sobaky'\n",
      " 'Central Cee' 'ThxSoMch' 'SadSvit, СТРУКТУРА ЩАСТЯ' 'Lady Gaga'\n",
      " 'Freddie Dredd' 'TWISTED, Oliver Tree' 'SOSKA 69' 'Килджо, shadowraze'\n",
      " 'Kxllswxtch' 'Aerosmith' 'Metro Boomin, The Weeknd, 21 Savage'\n",
      " 'Kalush Orchestra, KALUSH, KOZAK SIROMAHA' 'I Monster'\n",
      " 'Metro Boomin, Future, Chris Brown' 'PHARAOH, Ilya Konoplev'\n",
      " 'Nikitata, FindMyName' 'Golubenko, Clonnex' 'MoonDeity, EL$E'\n",
      " 'Xolidayboy' 'ONIMXRU, STRAWANGLE' 'Drake, 21 Savage'\n",
      " 'Øneheart, reidenshi' 'Lil Uzi Vert' 'Metro Boomin, Future, Don Toliver'\n",
      " 'Jah Khalib' 'RM' 'Artem Pivovarov, NK' 'DVRST, Scarlxrd' 'Emma Louise'\n",
      " 'ЛЯЛЬКА' 'Rogue Dave' 'Öwnboss, Sevek' 'PHARAOH, Mnogoznaal'\n",
      " 'Kush Lovers' 'Lesha Svik' 'LAUD, Boulevard Depo, I61' 'Badcurt'\n",
      " 'YARMAK, Tof' 'Parnishka, ELLA' 'Buerak'\n",
      " 'BADTRIP MUSIC, GREEN ORXNGE, Send 1' 'Ishowsped' 'rizza' 'CMH, Lida'\n",
      " 'stweamer' 'Pharmacist' 'Джизус'\n",
      " 'Daft Punk, Pharrell Williams, Nile Rodgers'\n",
      " 'Scally Milano, 163ONMYNECK, FEARMUCH' 'plenka' 'Midix, Chuyko, Lirin'\n",
      " 'ЯМАУГЛИ' 'Adecvat_production' 'Nekoglai' 'Jakone, A.V.G' 'Dean Martin'\n",
      " 'Verka Serduchka' 'Arthur Pirozhkov, Klava Koka'\n",
      " 'FrozenGangBeatz, SODA LUV, RVMZES' 'Andy Williams' 'Michael Bublé'\n",
      " 'Diskoteka Avariya' 'Fujii Kaze' 'KALUSH, Kalush Orchestra, Szpaku'\n",
      " 'MiyaGi & Endspiel' 'The Hardkiss' 'Grohotsky' 'Кореш, PINQ'\n",
      " 'Isabel LaRosa' 'BARABANDA' 'Scally Milano, 163ONMYNECK' 'MAYOT'\n",
      " 'AnnenMayKantereit, Giant Rooks' 'BTS' 'Tartak, Катя Chilly'\n",
      " 'Lost Frequencies, Calum Scott' 'Aarne, MAYOT, Markul'\n",
      " 'Clonnex, AQUAKILLA' 'Aarne, Big Baby Tape' 'Clonnex, йо'\n",
      " 'Aarne, Eldzhey, LIL KRYSTALLL' 'Aarne, OBLADAET' 'Aarne, FEDUK'\n",
      " 'Aarne, Платина' 'Markul, Тося Чайкина' 'LOVV66, Платина' 'ARBUZOVA'\n",
      " 'Второй Ка' 'Айки' 'The Limba' 'Subwoolfer' 'Kanye West, XXXTENTACION'\n",
      " 'Kolaba' 'Serhii Babkin' 'Pakkitka' 'ANNA ASTI' 'Artik & Asti'\n",
      " 'Lana Del Rey' '17 SEVENTEEN, Sqwore' 'Rodionis'\n",
      " 'Basic Boy, Boulevard Depo, TVETH' 'Oisho btz'\n",
      " 'Pink Floyd, Andriy Khlyvnyuk' 'lil Shordie Scott' 'Zlyj Reper Zenyk'\n",
      " 'BUSHIDO ZHO, 163ONMYNECK' 'Руся' 'BUSHIDO ZHO, MAYOT' 'Medovyi Polyn'\n",
      " 'Demi Lovato' 'benny blanco, BTS, Snoop Dogg' 'MORGENSHTERN, kizary'\n",
      " 'Jung Kook, BTS, FIFA Sound' 'Big Baby Tape, Young Moscow' 'S10'\n",
      " 'Nurik Smit' 'Panic! At The Disco' 'jon'\n",
      " 'Egor Kreed, Mikhail Shufutinsky' 'Eldzhey, Poshlaya Molly'\n",
      " 'BUSHIDO ZHO, treepside' 'Ariana Grande'\n",
      " 'Frank Sinatra, B. Swanson Quartet' 'Ed Sheeran, FEDUK, SLAVA MARLOW'\n",
      " 'Nekoglai, ivanzolo2004' 'MAYBE BABY' 'LSP' 'SEEMEE, BUSHIDO ZHO'\n",
      " 'SCIRENA' 'Gunna, Future, Young Thug' 'kizaru, Milian Beatz, Lil Gotit'\n",
      " 'Kinneret' 'SODA LUV, Rakhim, SLAVA MARLOW' 'Esteman' 'Coolio, L.V.'\n",
      " 'Juice WRLD' 'Zdob si Zdub, Fratii Advahov' 'PHARAOH, Dima Roux'\n",
      " 'Lida, MORGENSHTERN' 'Parfeniuk' 'The Cramps' 'Kendrick Lamar'\n",
      " 'Monika LIU' 'Vendetta' 'Konstrakta' 'KALUSH, alyona alyona' 'Sam Ryder'\n",
      " 'MARO' 'Chanel' 'SHTERN, MORGENSHTERN' 'Ochman' '$NOT, A$AP Rocky'\n",
      " 'Red Hot Chili Peppers' 'BUSHIDO ZHO, SODA LUV']\n"
     ]
    }
   ],
   "source": [
    "print(get_artists())"
   ],
   "metadata": {
    "collapsed": false
   }
  },
  {
   "cell_type": "code",
   "execution_count": null,
   "outputs": [],
   "source": [],
   "metadata": {
    "collapsed": false
   }
  }
 ],
 "metadata": {
  "kernelspec": {
   "display_name": "Python 3",
   "language": "python",
   "name": "python3"
  },
  "language_info": {
   "codemirror_mode": {
    "name": "ipython",
    "version": 2
   },
   "file_extension": ".py",
   "mimetype": "text/x-python",
   "name": "python",
   "nbconvert_exporter": "python",
   "pygments_lexer": "ipython2",
   "version": "2.7.6"
  }
 },
 "nbformat": 4,
 "nbformat_minor": 0
}

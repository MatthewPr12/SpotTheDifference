{
 "cells": [
  {
   "cell_type": "code",
   "execution_count": 60,
   "metadata": {
    "collapsed": true
   },
   "outputs": [],
   "source": [
    "import pandas as pd\n",
    "import numpy as np\n",
    "import sys\n",
    "import os\n",
    "import glob"
   ]
  },
  {
   "cell_type": "code",
   "execution_count": 61,
   "outputs": [],
   "source": [
    "def concat_info(data_dir_path=\"/data\"):\n",
    "    path = os.getcwd() + data_dir_path\n",
    "    print(path)\n",
    "    csv_files = glob.glob(os.path.join(path, \"*.csv\"))\n",
    "    df = pd.read_csv(csv_files[0])\n",
    "    for f in csv_files[1:]:\n",
    "        cur_df=pd.read_csv(f)\n",
    "        df = pd.concat([df, cur_df])\n",
    "\n",
    "        # print()\n",
    "    return df"
   ],
   "metadata": {
    "collapsed": false
   }
  },
  {
   "cell_type": "code",
   "execution_count": 62,
   "outputs": [
    {
     "name": "stdout",
     "output_type": "stream",
     "text": [
      "/home/sviat/code/Probability/SpotTheDifference/data/old_data\n"
     ]
    },
    {
     "data": {
      "text/plain": "     rank                                   uri  \\\n0       1  spotify:track:27NovPIUIRrOZoCHxABJwK   \n1       2  spotify:track:0f4UclgBuRE21KDUqYGQ8U   \n2       3  spotify:track:5PjdY0CKGZdEuoNab3yDmX   \n3       4  spotify:track:5X33A2X2OuQXUOKhawWCMm   \n4       5  spotify:track:1GTyZID5IGOXOAUoQkVlWo   \n..    ...                                   ...   \n195   196  spotify:track:5ypGPnY9ApOtsAcnMi90f7   \n196   197  spotify:track:5hxOo9pCGL5lYvLP5dMy9y   \n197   198  spotify:track:6KVAkUW0vSnbiUVu6iR8qe   \n198   199  spotify:track:6jfyE4yAr6kc2Vthham31E   \n199   200  spotify:track:71hUNAiuvPyzaQGVYQtqlF   \n\n                                          artist_names  \\\n0                               Lil Nas X, Jack Harlow   \n1                                            Max Korzh   \n2                         The Kid LAROI, Justin Bieber   \n3                                   Skryptonite, Райда   \n4    Geegun, Egor Kreed, The Limba, blago white, OG...   \n..                                                 ...   \n195                                                 NK   \n196                                            Платина   \n197                                             Zivert   \n198                                   Ramil', Rompasso   \n199                                  MiyaGi & Endspiel   \n\n                            track_name                      source  peak_rank  \\\n0    INDUSTRY BABY (feat. Jack Harlow)                    Columbia          1   \n1                              Не твой                   Макс Корж          2   \n2            STAY (with Justin Bieber)                    Columbia          2   \n3                            Baby mama                    Musica36          3   \n4                              На чиле                  KISS KOALA          2   \n..                                 ...                         ...        ...   \n195                       Красное Вино                     Nice2Cu         71   \n196                            Бандана                    РНБ КЛУБ        103   \n197                      Три Дня Любви  Первое музыкальное / СЕМЬЯ        124   \n198                          Убей Меня           Effective Records        199   \n199                           Fire Man              Hajime Records        105   \n\n     previous_rank  weeks_on_chart  streams  \n0                2               6   138975  \n1               -1               1   124869  \n2                3               8   124486  \n3                4               9   119223  \n4                5               6   111478  \n..             ...             ...      ...  \n195             -1              22    24522  \n196            168              57    24435  \n197             -1               2    24388  \n198             -1               1    24356  \n199            196              14    24303  \n\n[6199 rows x 9 columns]",
      "text/html": "<div>\n<style scoped>\n    .dataframe tbody tr th:only-of-type {\n        vertical-align: middle;\n    }\n\n    .dataframe tbody tr th {\n        vertical-align: top;\n    }\n\n    .dataframe thead th {\n        text-align: right;\n    }\n</style>\n<table border=\"1\" class=\"dataframe\">\n  <thead>\n    <tr style=\"text-align: right;\">\n      <th></th>\n      <th>rank</th>\n      <th>uri</th>\n      <th>artist_names</th>\n      <th>track_name</th>\n      <th>source</th>\n      <th>peak_rank</th>\n      <th>previous_rank</th>\n      <th>weeks_on_chart</th>\n      <th>streams</th>\n    </tr>\n  </thead>\n  <tbody>\n    <tr>\n      <th>0</th>\n      <td>1</td>\n      <td>spotify:track:27NovPIUIRrOZoCHxABJwK</td>\n      <td>Lil Nas X, Jack Harlow</td>\n      <td>INDUSTRY BABY (feat. Jack Harlow)</td>\n      <td>Columbia</td>\n      <td>1</td>\n      <td>2</td>\n      <td>6</td>\n      <td>138975</td>\n    </tr>\n    <tr>\n      <th>1</th>\n      <td>2</td>\n      <td>spotify:track:0f4UclgBuRE21KDUqYGQ8U</td>\n      <td>Max Korzh</td>\n      <td>Не твой</td>\n      <td>Макс Корж</td>\n      <td>2</td>\n      <td>-1</td>\n      <td>1</td>\n      <td>124869</td>\n    </tr>\n    <tr>\n      <th>2</th>\n      <td>3</td>\n      <td>spotify:track:5PjdY0CKGZdEuoNab3yDmX</td>\n      <td>The Kid LAROI, Justin Bieber</td>\n      <td>STAY (with Justin Bieber)</td>\n      <td>Columbia</td>\n      <td>2</td>\n      <td>3</td>\n      <td>8</td>\n      <td>124486</td>\n    </tr>\n    <tr>\n      <th>3</th>\n      <td>4</td>\n      <td>spotify:track:5X33A2X2OuQXUOKhawWCMm</td>\n      <td>Skryptonite, Райда</td>\n      <td>Baby mama</td>\n      <td>Musica36</td>\n      <td>3</td>\n      <td>4</td>\n      <td>9</td>\n      <td>119223</td>\n    </tr>\n    <tr>\n      <th>4</th>\n      <td>5</td>\n      <td>spotify:track:1GTyZID5IGOXOAUoQkVlWo</td>\n      <td>Geegun, Egor Kreed, The Limba, blago white, OG...</td>\n      <td>На чиле</td>\n      <td>KISS KOALA</td>\n      <td>2</td>\n      <td>5</td>\n      <td>6</td>\n      <td>111478</td>\n    </tr>\n    <tr>\n      <th>...</th>\n      <td>...</td>\n      <td>...</td>\n      <td>...</td>\n      <td>...</td>\n      <td>...</td>\n      <td>...</td>\n      <td>...</td>\n      <td>...</td>\n      <td>...</td>\n    </tr>\n    <tr>\n      <th>195</th>\n      <td>196</td>\n      <td>spotify:track:5ypGPnY9ApOtsAcnMi90f7</td>\n      <td>NK</td>\n      <td>Красное Вино</td>\n      <td>Nice2Cu</td>\n      <td>71</td>\n      <td>-1</td>\n      <td>22</td>\n      <td>24522</td>\n    </tr>\n    <tr>\n      <th>196</th>\n      <td>197</td>\n      <td>spotify:track:5hxOo9pCGL5lYvLP5dMy9y</td>\n      <td>Платина</td>\n      <td>Бандана</td>\n      <td>РНБ КЛУБ</td>\n      <td>103</td>\n      <td>168</td>\n      <td>57</td>\n      <td>24435</td>\n    </tr>\n    <tr>\n      <th>197</th>\n      <td>198</td>\n      <td>spotify:track:6KVAkUW0vSnbiUVu6iR8qe</td>\n      <td>Zivert</td>\n      <td>Три Дня Любви</td>\n      <td>Первое музыкальное / СЕМЬЯ</td>\n      <td>124</td>\n      <td>-1</td>\n      <td>2</td>\n      <td>24388</td>\n    </tr>\n    <tr>\n      <th>198</th>\n      <td>199</td>\n      <td>spotify:track:6jfyE4yAr6kc2Vthham31E</td>\n      <td>Ramil', Rompasso</td>\n      <td>Убей Меня</td>\n      <td>Effective Records</td>\n      <td>199</td>\n      <td>-1</td>\n      <td>1</td>\n      <td>24356</td>\n    </tr>\n    <tr>\n      <th>199</th>\n      <td>200</td>\n      <td>spotify:track:71hUNAiuvPyzaQGVYQtqlF</td>\n      <td>MiyaGi &amp; Endspiel</td>\n      <td>Fire Man</td>\n      <td>Hajime Records</td>\n      <td>105</td>\n      <td>196</td>\n      <td>14</td>\n      <td>24303</td>\n    </tr>\n  </tbody>\n</table>\n<p>6199 rows × 9 columns</p>\n</div>"
     },
     "metadata": {},
     "output_type": "display_data"
    },
    {
     "name": "stdout",
     "output_type": "stream",
     "text": [
      "/home/sviat/code/Probability/SpotTheDifference/data\n"
     ]
    },
    {
     "data": {
      "text/plain": "rank               int64\nuri               object\nartist_names      object\ntrack_name        object\nsource            object\npeak_rank          int64\nprevious_rank      int64\nweeks_on_chart     int64\nstreams            int64\ndtype: object"
     },
     "execution_count": 62,
     "metadata": {},
     "output_type": "execute_result"
    }
   ],
   "source": [
    "display(concat_info(\"/data/old_data\"))\n",
    "concat_info().dtypes"
   ],
   "metadata": {
    "collapsed": false
   }
  },
  {
   "cell_type": "code",
   "execution_count": 63,
   "outputs": [],
   "source": [
    "def get_artists(data_dir_path):\n",
    "    df = concat_info(data_dir_path)\n",
    "    return df.artist_names.unique()"
   ],
   "metadata": {
    "collapsed": false
   }
  },
  {
   "cell_type": "code",
   "execution_count": 64,
   "outputs": [
    {
     "name": "stdout",
     "output_type": "stream",
     "text": [
      "/home/sviat/code/Probability/SpotTheDifference/data\n",
      "/home/sviat/code/Probability/SpotTheDifference/data/old_data\n"
     ]
    }
   ],
   "source": [
    "df = concat_info(\"/data\")\n",
    "df_old = concat_info(\"/data/old_data\")"
   ],
   "metadata": {
    "collapsed": false
   }
  },
  {
   "cell_type": "code",
   "execution_count": 65,
   "outputs": [],
   "source": [
    "def write_artists(artists, filename):\n",
    "    with open(filename, 'w') as my_file:\n",
    "        my_file.write(\"artist; nation\\n\")\n",
    "        for i in artists:\n",
    "            my_file.write(i+\";\\n\")\n"
   ],
   "metadata": {
    "collapsed": false
   }
  },
  {
   "cell_type": "code",
   "execution_count": 66,
   "outputs": [
    {
     "name": "stdout",
     "output_type": "stream",
     "text": [
      "/home/sviat/code/Probability/SpotTheDifference/data\n",
      "['Big Baby Tape, kizaru' 'shadowraze' 'quiizzzmeow'\n",
      " 'OG Buda, 17 SEVENTEEN, MAYOT' 'Big Baby Tape, Молодой Платон'\n",
      " 'nkeeei, uniqe, ARTEM SHILOVETS, SAGARA'\n",
      " 'Imagine Dragons, JID, Arcane, League of Legends'\n",
      " 'Miyagi & Andy Panda, Mav-d' 'WENARO, LXNER' 'Max Korzh'\n",
      " 'PHARAOH, Mnogoznaal' 'MORGENSHTERN' 'Даня Милохин, Mumiy Troll'\n",
      " 'GONE.Fludd' 'uniqe, nkeeei, ARTEM SHILOVETS' 'DVRST'\n",
      " 'Lil Nas X, Jack Harlow' 'Skryptonite, Райда' 'Платина, Дора' 'GAYLE'\n",
      " 'Kambulat' 'Lusia Chebotina' 'Sqwore' 'The Kid LAROI, Justin Bieber'\n",
      " 'shadowraze, babyswishh1' 'fem.love' 'rizza, Sqwore'\n",
      " 'shadowraze, GENJUTSU' 'Wham!' 'Дора, MAYBE BABY' 'Bobby Helms' 'Дора'\n",
      " 'BoyWithUke' 'Brenda Lee' 'Mariah Carey' 'INSTASAMKA' 'semmmyq, shinra'\n",
      " 'Miyagi & Andy Panda' 'Elley Duhé' 'Korol i Shut' 'Wellboy'\n",
      " 'вышел покурить' 'DSPRITE' 'KALUSH, Tember Blanche'\n",
      " 'SODA LUV, Rakhim, SLAVA MARLOW' 'LIL MORTY' 'remember.' 'SALES' 'kizaru'\n",
      " 'Miyagi & Andy Panda, TumaniYO' 'BALKON' 'Minelli'\n",
      " 'Scally Milano, LOVV66' 'ROCKET' 'Mr.Kitty' 'Twinky'\n",
      " 'Poshlaya Molly, Eldzhey' 'Skryptonite' 'METAN' 'Benedixhion'\n",
      " 'Egor Kreed' 'Måneskin' 'Glass Animals' 'Xdinary Heroes' 'АДЛИН'\n",
      " 'Mnogoznaal' 'Dean Martin' 'Kush Lovers' 'Sia' 'LSP' 'PlayaPhonk'\n",
      " 'ssshhhiiittt!' 'BRANYA, MACAN' 'Ollane, MiyaGi' 'SODA LUV' 'Перемотка'\n",
      " 'Lil Nas X' 'Ed Sheeran' 'The Weeknd' 'Oxxxymiron' 'OBLADAET'\n",
      " 'Boulevard Depo, SP4K' 'Три дня дождя' 'ooes' 'uglystephan' 'Hensonn'\n",
      " 'Папин Олимпос' 'Кишлак' 'Платина, Big Baby Tape' 'Sqwore, rizza'\n",
      " 'Дайте танк (!)' 'HammAli & Navai' '10AGE' 'Pornofilmy'\n",
      " 'The Neighbourhood' 'THRILL PILL' 'JojoHF, nevroz' 'SODA LUV, WHY, BERRY'\n",
      " 'Ed Sheeran, FEDUK, SLAVA MARLOW' 'LXST CXNTURY, Kingpin Skinny Pimp'\n",
      " 'Ежемесячные' 'Платина, OG Buda, MAYOT' 'LIL KRYSTALLL'\n",
      " 'MORGENSHTERN, SODA LUV, OG Buda, blago white, MAYOT'\n",
      " 'OBLADAET, THRILL PILL' 'DEAD BLONDE' 'Elton John, Dua Lipa, PNAU'\n",
      " 'Tiësto' 'OG Buda, Polyana' 'siouxxie sixxsta' 'KENTUKKI' 'GUMA' 'LOBODA'\n",
      " 'Alyona Shvets' 'WEEDMANE, Suicideyear' 'Esteman' 'LISA' 'MiyaGi'\n",
      " 'Öwnboss, Sevek' 'HammAli & Navai, Jah Khalib' 'Skryptonite, 104'\n",
      " 'Lil Peep' 'Michael Bublé' 'Rebzyyx, hoshie star' 'The Rare Occasions'\n",
      " 'LIZER' 'ACRAZE, Cherish' 'Scally Milano' 'Ghostface Playa, fkbambam'\n",
      " 'pyrokinesis, MUKKA' 'Tima Belorusskih' \"10AGE, Ramil'\"\n",
      " 'конец солнечных дней' 'Andy Williams' 'Surf Curse' 'JONY, HammAli'\n",
      " 'Jaymes Young' 'MiyaGi & Endspiel, Rem Digga' 'MACAN'\n",
      " 'Kaito Shoma, DJ Paul, Kingpin Skinny Pimp' 'NЮ' 'Nikitata'\n",
      " 'Dzharakhov, Markul'\n",
      " 'OG Buda, MAYOT, SEEMEE, Magnum Opus, Scally Milano, YUNGWAY, BUSHIDO ZHO'\n",
      " 'Sam Smith, Kim Petras' 'Skofka' 'Kordhell' 'Aarne, BUSHIDO ZHO, ANIKV'\n",
      " 'KALUSH, Skofka' 'xxxmanera' 'Imagine Dragons' 'ENLEO' 'MUPP, Sadfriendd'\n",
      " 'uglystephan, Scally Milano' 'INTERWORLD' 'KOLA' 'Tom Odell'\n",
      " 'ONIMXRU, SMITHMANE' 'MoonDeity' 'jockii druce'\n",
      " 'Молодой Платон, Poshlaya Molly, Yanix' 'Poshlaya Molly, HOFMANNITA'\n",
      " 'Канги, Galust' 'Dxrk ダーク' 'PLAYAMANE, Nateki' 'SHUMEI'\n",
      " 'KALUSH, Kalush Orchestra' 'Rammstein' 'Chico, Qatoshi' 'Кореш' 'SadSvit'\n",
      " 'Шайни' 'PLOHOYPAREN' 'Clonnex' '100лиця, SKYLERR' 'YARMAK, ALISA'\n",
      " 'Artem Pivovarov, DOROFEEVA' 'Rosa Walton, Hallie Coggins' 'BUSHIDO ZHO'\n",
      " 'ScurtDae' 'Chris Brown' 'Eminem, Dina Rae' 'Jerry Heil'\n",
      " 'alyona alyona, Jerry Heil, ela.' 'Stray Kids' 'КАКАЯ РАЗНИЦА' 'Мюслі UA'\n",
      " 'анастимоза' 'Scally Milano, uglystephan' 'XXXTENTACION'\n",
      " 'Милана Хаметова, Milana Star' 'Arut, MORGENSHTERN' 'Odyn v Kanoe'\n",
      " 'David Guetta, Bebe Rexha' 'Ghost' 'uglystephan archive' 'ASKEt'\n",
      " 'Ghostface Playa' 'Harry Styles' 'Funk Tribu' 'БРЕДИШЬ' 'KUTE' 'CHEEV'\n",
      " 'Xantesha' 'Кореш, treepside' 'Taras Chubay, Плач Єремії' 'Isolate.exe'\n",
      " 'LAUD' 'Artem Pivovarov' 'VovaZiLvova, Morphom' 'Lil Yachty' 'BLACKPINK'\n",
      " 'Scally Milano, OG Buda' \"Motor'Rolla\" 'zxcursed' 'Nirvana' 'H8.HOOD'\n",
      " 'Arctic Monkeys' 'MamaRika' 'Мюслі UA, VASIA CHARISMA'\n",
      " 'Artem Pivovarov, alyona alyona' 'OneRepublic' 'Ed Sheeran, Antytila'\n",
      " 'Karta Svitu' 'хейтспіч' 'girl in red' 'shadowraze, LXNER, quiizzzmeow'\n",
      " 'Eyedress' 'Jerry Heil, Verka Serduchka' 'Valentin Strykalo'\n",
      " 'Beach Weather' 'PROBASS ∆ HARDI' 'Phonkha, zecki'\n",
      " 'Cheriimoya, Sierra Kidd' 'Lil God Dan' 'FACE' 'KRBK'\n",
      " 'Sasha Chemerov, Boombox' 'SHADXWBXRN, ARCHEZ, KXNVRA'\n",
      " 'The Weeknd, Gesaffelstein' 'Маша Кондратенко' 'To Eternity'\n",
      " 'SCXR SOUL, Sx1nxwy' 'RAT BOY, IBDY' 'Steve Lacy' 'KALUSH' 'GRAVECHILL'\n",
      " 'KSLV Noh' 'alyona alyona, Jerry Heil' 'Epolets' 'ATELLWULF'\n",
      " 'Khrystyna Soloviy' 'Eminem' 'd4vd' 'MC ORSEN' 'ПОЛМАТЕРИ' '100лиця'\n",
      " 'MGMT' 'Coolio, L.V.' 'Sxmpra' 'Arut, Big Baby Tape' 'VISXGE' 'JojoHF'\n",
      " 'Okean Elzy, Odyn v Kanoe' 'Boombox' 'СЕРЕГА ПИРАТ'\n",
      " '163ONMYNECK, BUSHIDO ZHO' 'Pixies' 'MBreeze' 'Nervy' 'MONATIK'\n",
      " 'Kinneret' 'Анна Тринчер, MBreeze' 'Mareux' 'Bahroma' 'Вектор А'\n",
      " 'Kate Bush' 'Twisted Sister' 'FACE, Squirrel Flower' 'Juice WRLD'\n",
      " 'nkeeei, uniqe, ARTEM SHILOVETS, MAYOT' 'mazie' 'OG Buda'\n",
      " 'DAYTON, Shnaps' 'Eliza Rose, Interplanetary Criminal' 'Cypis' 'PHARAOH'\n",
      " 'Okean Elzy' 'Минин' 'Go_A' 'GAYAZOV$ BROTHER$' 'The Kiffness, Boombox'\n",
      " '163ONMYNECK' 'BUSHIDO ZHO, 163ONMYNECK' 'Adecvat_production'\n",
      " 'КОСМОНАВТОВ НЕТ' 'Руся' 'Zhadan i Sobaky' 'YARMAK, Tof' 'MAX BARSKIH'\n",
      " 'KALUSH, Khrystyna Soloviy' 'BUSHIDO ZHO, MAYOT' 'SHADXWBXRN'\n",
      " 'Griffinilla' 'AnnenMayKantereit, Giant Rooks' 'Мері' 'Medovyi Polyn'\n",
      " 'KALUSH, Jerry Heil' 'ZODIVK' 'niteboi' 'Nekoglai' 'BOTASHE' 'BONES'\n",
      " 'Автостопом по фазе сна' 'хочуспать' 'Tiësto, Ava Max' 'Skryabin'\n",
      " 'Где Фантом?' 'Violetta Sokolova' 'The Limba' 'V $ X V PRiNCE'\n",
      " 'Subwoolfer' 'Xcho' 'Calvin Harris, Dua Lipa' 'Медовий Полин'\n",
      " 'Patsyki Z Franeka' 'Arsen Mirzoyan' 'KALUSH, Сальто Назад, Skofka' 'S10'\n",
      " 'shadowraze, shinra' 'Boulevard Depo' 'Kanye West, XXXTENTACION'\n",
      " 'Нумер 482' 'Kolaba' 'Nurik Smit' 'Artem Pivovarov, KALUSH'\n",
      " 'OG Buda, MAYOT' 'Poshlaya Molly' 'нексюша' 'Платина'\n",
      " 'SODA LUV, BUSHIDO ZHO' 'BEZ OBMEZHEN' 'Joji' 'BTS' 'СТРУКТУРА ЩАСТЯ'\n",
      " 'The Yurcash' 'Tartak, Катя Chilly' 'Serhii Babkin' 'Antytila'\n",
      " 'SadSvit, СТРУКТУРА ЩАСТЯ' 'Nikitata, FindMyName' 'SOSKA 69'\n",
      " 'KALUSH, Kalush Orchestra, The Rasmus' 'LIL KRYSTALLL, Лоя (5sta Family)'\n",
      " 'TWISTED, Oliver Tree' 'Kxllswxtch' 'Кореш, PINQ' 'Freddie Dredd'\n",
      " 'Oliver Tree, Robin Schulz' 'g3ox_em' 'MiyaGi & Endspiel'\n",
      " 'Golubenko, Clonnex' 'Fujii Kaze' 'KALUSH, Kalush Orchestra, Szpaku'\n",
      " 'LOVV66' 'Drake, 21 Savage' 'ThxSoMch' '(G)I-DLE'\n",
      " 'Анна Тринчер, POSITIFF' 'TATISIZE, PASHASNICKERS' 'Kenshi Yonezu'\n",
      " 'Isabel LaRosa' 'The Hardkiss' 'Xolidayboy' 'Taylor Swift'\n",
      " 'Showbiz School' 'Aerosmith' 'VovaZiLvova, MamaRika'\n",
      " 'MORGENSHTERN, Aarne' 'The Limba, MORGENSHTERN'\n",
      " 'Poshlaya Molly, Молодой Платон' 'O.G EzzY' 'дипинс' 'артилерія'\n",
      " 'kizaru, Duke Deuce' 'Jakone, A.V.G, Итачи' 'Manu Chao'\n",
      " 'Aarne, Yanix, SEEMEE' 'Aarne, MORGENSHTERN'\n",
      " 'MC Mazzie, Mc Rd, DJ NpcSize, DJ Wizard' 'Lely45' 'Aarne, MAYOT, Markul'\n",
      " 'Clonnex, AQUAKILLA' 'Aarne, Big Baby Tape' 'Clonnex, йо' 'yatashigang'\n",
      " 'EeOneGuy' 'Схожа' 'Sx1nxwy' 'Zdob si Zdub, Fratii Advahov'\n",
      " 'Kendrick Lamar' 'Monika LIU' 'Vendetta' 'Konstrakta'\n",
      " 'OG Buda, Scally Milano, 163ONMYNECK' 'KALUSH, alyona alyona' 'Sam Ryder'\n",
      " 'MARO' 'Chanel' 'SHTERN, MORGENSHTERN' 'Ochman' 'Lady Gaga' 'DOROFEEVA'\n",
      " 'Parfeniuk' 'Килджо, shadowraze' 'Metro Boomin, The Weeknd, 21 Savage'\n",
      " 'Kalush Orchestra, KALUSH, KOZAK SIROMAHA' 'I Monster' 'Lil Uzi Vert'\n",
      " 'Artem Pivovarov, NK' 'MoonDeity, EL$E' 'Øneheart, reidenshi'\n",
      " 'ONIMXRU, STRAWANGLE' 'TVORCHI' 'Lana Del Rey'\n",
      " 'Metro Boomin, Future, Chris Brown' 'The Cramps' 'zhanulka'\n",
      " '3TERNITY, OG Buda' 'Eldzhey, Poshlaya Molly' 'BUSHIDO ZHO, treepside'\n",
      " 'Ariana Grande' 'Arthur Pirozhkov, Klava Koka' 'Ваня Дмитриенко'\n",
      " 'Frank Sinatra, B. Swanson Quartet' 'Kaito Shoma' 'Masked Wolf'\n",
      " 'Grigory Leps, Irina Allegrova' 'escape, Даня Милохин' 'Konfuz'\n",
      " 'Daft Punk, Pharrell Williams, Nile Rodgers' 'ALEKS ATAMAN, FINIK'\n",
      " 'Demi Lovato' 'IC3PEAK, Oli Sykes, Bring Me The Horizon'\n",
      " 'Verka Serduchka' 'ЛЯЛЬКА' 'SLAVA MARLOW' 'OBLADAET, JEEMBO'\n",
      " 'Galibri & Mavik' 'FrozenGangBeatz, SODA LUV, RVMZES' 'LOLIWZ'\n",
      " 'Geegun, Egor Kreed, The Limba, blago white, OG Buda, Timati, SODA LUV, GUF'\n",
      " 'Diskoteka Avariya' 'Ezekiel' 'Swedish House Mafia, The Weeknd'\n",
      " 'OG Buda, Дора' 'Gibbs' 'Scally Milano, 163ONMYNECK' 'Buerak' 'MAYOT'\n",
      " 'Markul' 'PHARAOH, Ilya Konoplev' 'Metro Boomin, Future, Don Toliver'\n",
      " 'Jah Khalib' 'RM' 'DVRST, Scarlxrd' 'j-hope' 'DJ GLK' 'Yeat'\n",
      " 'Charlie Puth, Jung Kook, BTS' 'Aarne, Eldzhey, LIL KRYSTALLL'\n",
      " 'Aarne, OBLADAET' 'Aarne, FEDUK' 'Aarne, Платина' 'Markul, Тося Чайкина'\n",
      " 'LOVV66, Платина' 'ARBUZOVA' 'Второй Ка' 'Айки' 'Grohotsky' 'stweamer'\n",
      " 'BARABANDA' 'Tartak' 'Lost Frequencies, Calum Scott'\n",
      " 'VACÍO, MORGENSHTERN' 'CORPSE, Scarlxrd, Kordhell' '1nonly, Sxmpra'\n",
      " 'AURORA' 'Tof, Білий Бо' 'yef' 'staplegun' 'Oisho btz' 'Rogue Dave'\n",
      " 'Emma Louise' 'Lesha Svik' 'ANNA ASTI' 'Pathetic' 'Badcurt' 'Rodionis'\n",
      " 'MUKKA' 'pyrokinesis' 'Scally Milano, 163ONMYNECK, FEARMUCH' 'CMH, Lida'\n",
      " 'Doja Cat' 'Pink Floyd, Andriy Khlyvnyuk' 'lil Shordie Scott'\n",
      " 'MORGENSHTERN, The Limba' 'MORGENSHTERN, ENTYPE' 'MORGENSHTERN, LSP'\n",
      " 'MORGENSHTERN, Eldzhey' 'Metallica' 'АКУЛИЧ, vafom'\n",
      " 'LAUD, Boulevard Depo, I61' 'Labrinth' 'Yung Lean' 'LXNER, quiizzzmeow'\n",
      " 'Daybe, Tenderlybae' 'Artik & Asti' 'SCIRENA' 'Антон Токарев'\n",
      " '$NOT, A$AP Rocky' 'Red Hot Chili Peppers' 'Parnishka, ELLA'\n",
      " 'КОСМОНАВТОВ НЕТ, дипинс' 'Slattcrank, LUCIE'\n",
      " '163ONMYNECK, Yanix, FEARMUCH, Scally Milano'\n",
      " 'BADTRIP MUSIC, GREEN ORXNGE, Send 1' 'Egor Kreed, MakSim' 'Ishowsped'\n",
      " '163ONMYNECK, OG Buda' 'rizza' 'Pharmacist' 'Джизус' 'plenka'\n",
      " 'Midix, Chuyko, Lirin' 'ЯМАУГЛИ' 'Jung Kook' 'Nekoglai, ivanzolo2004'\n",
      " 'MAYBE BABY' 'SEEMEE, BUSHIDO ZHO' 'Oxxxymiron, EIGHTEEN'\n",
      " 'LSP, MORGENSHTERN' 'Central Cee' 'Zlyj Reper Zenyk' 'KISS'\n",
      " 'Panic! At The Disco' 'Сны Саламандры' 'ANIKV, SALUKI'\n",
      " '163ONMYNECK, Scally Milano' '163ONMYNECK, SEEMEE' 'Ivan Dorn' 'ATL'\n",
      " 'Adele' 'SLAVA MARLOW, Aarne' 'INSTASAMKA, MONEYKEN' 'kirkiimad'\n",
      " 'Oliver Tree' \"Ramil', Rompasso\" 'Croupie' 'Amaarae, Kali Uchis, Moliy'\n",
      " 'Marie Madeleine' 'Joel Corry, Jax Jones, Charli XCX, Saweetie'\n",
      " 'Coldplay, BTS' 'MORGENSHTERN, kizary' 'Jung Kook, BTS, FIFA Sound'\n",
      " 'Big Baby Tape, Young Moscow' 'southstar' 'OBLADAET, LIL KRYSTALLL' 'jon'\n",
      " 'nkeeei, uniqe, ARTEM SHILOVETS, Кореш' 'Egor Kreed, Mikhail Shufutinsky'\n",
      " 'Jakone, A.V.G' 'BUSHIDO ZHO, SODA LUV' 'Gunna, Future, Young Thug'\n",
      " 'benny blanco, BTS, Snoop Dogg' 'Electroforez, superkomfort' 'elarm'\n",
      " '17 SEVENTEEN, Sqwore' 'Basic Boy, Boulevard Depo, TVETH'\n",
      " 'OG Buda, Big Baby Tape' 'OG Buda, 163ONMYNECK' 'OG Buda, Jetix'\n",
      " 'OG Buda, Брутто' 'OG Buda, BUSHIDO ZHO, uglystephan, WormGanger'\n",
      " 'OG Buda, 163ONMYNECK, Yanix' 'OG Buda, Scally Milano' 'PSY, SUGA'\n",
      " 'OG Buda, SODA LUV' 'OG Buda, YN Jay' 'OG Buda, INDABLACK, 104'\n",
      " 'OG Buda, 163ONMYNECK, KrispyLife Kidd' 'Yanix, дора' 'vioria'\n",
      " 'kizaru, Milian Beatz, Lil Gotit'\n",
      " 'Олександр Пономарьов, Михайло Хома, Тарас Тополя, Євген Кошовий, Юрій Ткач, Петро Чорний'\n",
      " 'Pakkitka' 'payton' 'HammAli & Navai, MACAN' 'Rakhim, JONY'\n",
      " 'SODA LUV, MORGENSHTERN' 'PHARAOH, Dima Roux' 'Lida, MORGENSHTERN'\n",
      " 'АДЛИН, Килджо' 'Kordhell, Scarlxrd, CORPSE']\n"
     ]
    }
   ],
   "source": [
    "artists = get_artists(\"/data\")\n",
    "print(artists)\n",
    "write_artists(artists, \"new_artists.csv\")"
   ],
   "metadata": {
    "collapsed": false
   }
  },
  {
   "cell_type": "code",
   "execution_count": 67,
   "outputs": [
    {
     "name": "stdout",
     "output_type": "stream",
     "text": [
      "/home/sviat/code/Probability/SpotTheDifference/data/old_data\n",
      "/home/sviat/code/Probability/SpotTheDifference/data\n",
      "{'Eldzhey', '347aidan', 'Daði Freyr', 'Bring Me The Horizon', 'Jah Khalib, Agon', 'Trevor Daniel', 'Lenka', 'DVRST, OBLXKQ', 'Tina Karol', 'Riton, Nightcrawlers, Mufasa & Hypeman, Dopamine', 'Vladimir Dantes', 'The Limba, Andro, Navai', 'SODA LUV, OG Buda', 'Dua Lipa, Imanbek', 'Skryptonite, INDABLACK, qurt, Rodionis', 'Shouse, David Guetta', 'Rita Ora, David Guetta, Imanbek, Gunna', 'kostromin', 'Oliver Tree, Little Big, Tommy Cash', 'Justin Bieber, Daniel Caesar, Giveon', 'By Индия', 'Oleg Miami', 'SLAVA MARLOW, The Limba, Eldzhey', 'Flëur', 'BODIEV', 'ENHYPEN', 'Barbara Pravi', 'SODA LUV, SQWOZ BAB', 'Manizha', 'SAINt JHN, Imanbek', 'MORGENSHTERN, Imanbek, Fetty Wap, KDDK', 'Tyler, The Creator, 42 Dugg', 'Egor Kreed, OG Buda', 'Lil Peep, XXXTENTACION', 'Cardi B', 'Egor Kreed, blago white', 'Elena Tsagrinou', 'Roddy Ricch', 'Joel Corry, MNEK', 'The Hardkiss, MONATIK', 'кис-кис', 'BTS, Megan Thee Stallion', 'MiyaGi, KADI', 'ФОГЕЛЬ', 'Серебряная свадьба', 'Kanye West', 'INNA', 'Bruno Mars, Anderson .Paak, Silk Sonic', 'Bella Poarch', 'Klywoodjeb', 'Billie Eilish', 'SyKo', '104, MiyaGi, Skryptonite', 'SEEMEE, MAYOT', 'Eibell', 'MORGENSHTERN, SLAVA MARLOW', 'WhyBaby?, UncleFlexxx', 'Egor Kreed, Dzharakhov, BUSTER', 'MiyaGi, TumaniYO, Kadi', 'Drake, 21 Savage, Project Pat', 'kizaru, JABO', 'TVETH, LIL SMOOKY, Boulevard Depo', 'Doja Cat, SZA', 'Dzharakhov, Mary Gu', 'Skryptonite, FEDUK', 'Markul, ANIKV', 'THE ROOP', 'My', 'МОТ, LYRIQ', 'kizaru, Tory Lanez', 'Post Malone, The Weeknd', 'Travis Scott', 'Dua Lipa', \"M'Dee, Skryptonite\", 'Nessa Barrett, jxdn', '24kGoldn, iann dior', 'The Kid LAROI, Miley Cyrus', 'Dany Bit, Deny Bit', 'Tyler, The Creator', 'UncleFlexxx', 'Drake, Travis Scott', 'VisaGangBeatz, MAYOT, SEEMEE', 'JACKBOYS, Travis Scott, Young Thug', 'Andrey Gubin', 'Boulevard Depo, JEEMBO', 'VACÍO, Eldzhey', 'blago white', 'Skryptonite, Сёстры', 'Halsey', 'Katy Perry', 'The Hatters, Dzharakhov', 'ATB, Topic, A7S', 'NK', 'Joel Corry, RAYE, David Guetta', 'Dua Lipa, DaBaby', 'MAYOT, BUSHIDO ZHO, SEEMEE', 'LVL1', 'Deny Bit', 'Вакарчук', 'Ильич да Софья, SLAVA MARLOW', 'HENSY', 'Dima Bilan, Mari Kraimbrery', 'Aarne, LIL KRYSTALLL', 'Баста feat. Алёна Омаргалиева', 'Ashnikko, Princess Nokia', 'Mekhman', 'Zemfira', 'LOVV66, OG Buda', 'Basta', 'Alan Walker, Imanbek', 'T-Fest, FEDUK', 'MAX BARSKIH, Zivert', 'Saweetie, Doja Cat', 'Post Malone', 'T-Fest, Skryptonite', 'DJ Tapolsky', 'Markul, Dyce', 'Tiësto, KAROL G', 'Fousheé', 'Blind Channel', 'SLAVA MARLOW, MK', 'Maroon 5, Megan Thee Stallion', 'OG Buda, BUSHIDO ZHO', 'SQWOZ BAB, Dzharakhov', 'ЕГОР ШИП', 'INDABLACK, Skryptonite, qurt', 'SLAVA MARLOW, MORGENSHTERN', 'RØNIN', 'ElyOtto', 'Tyler, The Creator, Lil Uzi Vert, Pharrell Williams', 'SQWOZ BAB, GONE.Fludd, blago white', 'Tember Blanche', 'Krovostok', 'Egor Kreed, MAYOT', 'YUNG TRAPPA, MORGENSHTERN', 'Doja Cat, The Weeknd', 'DaBaby, Roddy Ricch', 'Платина, OG Buda', 'DOROFEEVA, Skryptonite', 'Mikhail Shufutinsky', 'Efendi', 'Aarne, The Limba, Markul', 'Neverlove, bratishkin', 'Колос', 'CJ', 'MAYOT, YUNGWAY, Sqweezey', 'We, Лэривэйн', 'J Balvin, Skrillex', 'Majestic, Boney M.', 'Duncan Laurence', 'The Weeknd, Ariana Grande', 'МОТ', 'Egor Kreed, GUF', 'OG Buda, blago white', 'ANAZED', 'SEEYASIDE', 'Mag.Lo', 'Internet Money, Gunna, Don Toliver, NAV', 'Belly, The Weeknd, Young Thug', 'Lorde', 'Martin Garrix, Bono, The Edge', 'MOZGI', 'Travis Scott, HVME', '$uicideboy$', 'Trinidad Cardona', 'T-Fest', 'Olivia Rodrigo', 'SEEMEE, SODA LUV', 'MAYOT, FEDUK', 'Tyler, The Creator, YoungBoy Never Broke Again, Ty Dolla $ign', 'Lizzo, Cardi B', 'Mav-d, Miyagi & Andy Panda', 'DAKOOKA', 'ONUKA', 'SODA LUV, Buster', 'akha', 'CKay', \"Gjon's Tears\", 'BUSTER', 'DJ SMASH, MORGENSHTERN', 'Султан Лагучев', 'MORGENSHTERN, YUNG TRAPPA', 'Gunwest, UncleFlexxx', 'LIZER, MAYOT', 'GAYAZOV$ BROTHER$, Filatov & Karas', 'JAMIK, PUSSYKILLER', 'Ruki Vverh!, HammAli & Navai', 'The Limba, GONE.Fludd', 'THRILL PILL, SODA LUV', 'Yanix, OG Buda, 163ONMYNECK', 'Drake, Future, Young Thug', 'Electroforez', 'ITZY', 'Anet Sai', 'SALUKI, 104, ANIKV, BILIK', 'Goro', 'OG Buda, Egor Kreed, MAYOT, SODA LUV', 'Yanix, Poshlaya Molly', \"CKay, Dj Yo!, AX'EL\", 'Drake, Lil Baby', 'Twenty One Pilots', 'Coldplay', 'Rakhim', 'Markul, SALUKI', 'Magnum Opus, MAYOT', 'Alexiane, Moses, EMR3YGUL', 'Giveon', 'NLO', 'LOVV66, Skryptonite', 'grandson', 'Masked Wolf, Egor Kreed', 'Kali Uchis', 'GSPD, DEAD BLONDE', 'Канги', 'VisaGangBeatz, MAYOT, SEEMEE, 163ONMYNECK', 'Egor Kreed, SODA LUV', 'Ollane, Miyagi & Andy Panda', 'Destiny', 'Skryptonite, Andy Panda, 104', 'Платина, PLOHOYPAREN', 'JONY, The Limba', 'kizaru, Big Baby Tape', 'OG Buda, Платина', 'Noize MC', 'УННВ', 'BUSHIDO ZHO, Yanix', \"Ramil'\", 'Shouse', 'МОТ, JONY', 'просто Лера', 'SICKOTOY, MARUV', 'DEMCHUK, NK', 'PLOHOYPAREN, LIL MORTY', 'Lil Pencil, strogo, lixxx, Koresh, paradeev1ch', 'MORGENSHTERN, Timati', 'Zivert', 'The Limba, Skryptonite', 'FEDUK', 'KALUSH, Victor Perry', 'The Limba, Rakhim', 'Eldzhey, Rakhim', 'Baby Keem, Travis Scott', 'Polo G', 'SLAVA MARLOW, HammAli & Navai', 'Miley Cyrus, Dua Lipa', 'MEDUZA, Dermot Kennedy', 'PLOHOYPAREN, blago white', 'Dany Bit', 'Rodionis, Skryptonite', 'OG Buda, OBLADAET', 'Big Baby Tape', 'Bula, SVNV', 'MATRANG', 'Платина, LIL VAN', 'Dom La Nena, Jeremy Sole, Atropolis', 'Drake', 'Husky', 'Gunwest', 'LILDRUGHILL, ROCKET', 'Trippie Redd, Playboi Carti', 'KAZKA', \"Akmal'\", 'Дурной Вкус', 'Pretty Scream, MAYOT', 'Ava Max', 'ELMAN, JONY'}\n"
     ]
    }
   ],
   "source": [
    "new_artists = set(get_artists(\"/data/old_data\"))-set(get_artists(\"/data\"))\n",
    "print(new_artists)\n",
    "write_artists(new_artists, \"new_artists.csv\")"
   ],
   "metadata": {
    "collapsed": false
   }
  },
  {
   "cell_type": "code",
   "execution_count": 67,
   "outputs": [],
   "source": [],
   "metadata": {
    "collapsed": false
   }
  }
 ],
 "metadata": {
  "kernelspec": {
   "display_name": "Python 3",
   "language": "python",
   "name": "python3"
  },
  "language_info": {
   "codemirror_mode": {
    "name": "ipython",
    "version": 2
   },
   "file_extension": ".py",
   "mimetype": "text/x-python",
   "name": "python",
   "nbconvert_exporter": "python",
   "pygments_lexer": "ipython2",
   "version": "2.7.6"
  }
 },
 "nbformat": 4,
 "nbformat_minor": 0
}
